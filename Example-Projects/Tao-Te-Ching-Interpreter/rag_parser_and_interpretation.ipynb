{
 "cells": [
  {
   "cell_type": "code",
   "execution_count": null,
   "metadata": {},
   "outputs": [
    {
     "data": {
      "text/plain": [
       "True"
      ]
     },
     "execution_count": 5,
     "metadata": {},
     "output_type": "execute_result"
    }
   ],
   "source": [
    "from llama_index.core import (\n",
    "    VectorStoreIndex, \n",
    "    SimpleDirectoryReader,\n",
    "    StorageContext,\n",
    "    load_index_from_storage\n",
    ")\n",
    "import os\n",
    "from dotenv import load_dotenv\n",
    "import chromadb\n",
    "from llama_index.vector_stores.chroma import ChromaVectorStore\n",
    "import json\n",
    "from pydantic import BaseModel, Field, field_validator\n",
    "from typing import List\n",
    "\n",
    "load_dotenv()"
   ]
  },
  {
   "cell_type": "markdown",
   "metadata": {},
   "source": [
    "### Vector Stores\n"
   ]
  },
  {
   "cell_type": "code",
   "execution_count": 7,
   "metadata": {},
   "outputs": [],
   "source": [
    "VECTOR_STORE_DIR = 'chroma_db'\n",
    "if not os.path.exists(VECTOR_STORE_DIR):\n",
    "    os.makedirs(VECTOR_STORE_DIR)\n",
    "    # Load documents\n",
    "    documents = SimpleDirectoryReader(\"../Quick-Examples/data\").load_data()\n",
    "    # Verify that there are no empty documents\n",
    "    documents = SimpleDirectoryReader(\"../Quick-Examples/data\").load_data()\n",
    "    for doc in documents:\n",
    "        if not doc:\n",
    "            print(\"Documento vacío encontrado\")\n",
    "\n",
    "    # Initialize the ChromaDB client\n",
    "    db = chromadb.PersistentClient(path=VECTOR_STORE_DIR)\n",
    "\n",
    "    # Create a new collection\n",
    "    chroma_collection = db.get_or_create_collection('chroma_collection')\n",
    "\n",
    "    # Assign chroma as the vector_store to the context\n",
    "    vector_store = ChromaVectorStore(chroma_collection=chroma_collection)\n",
    "    storage_context = StorageContext.from_defaults(vector_store=vector_store)\n",
    "\n",
    "    # Create index\n",
    "    index = VectorStoreIndex.from_documents(documents, storage_context=storage_context)\n",
    "else:\n",
    "    # Initialize the ChromaDB client\n",
    "    db = chromadb.PersistentClient(path=VECTOR_STORE_DIR)\n",
    "\n",
    "    # Get the collection\n",
    "    chroma_collection = db.get_or_create_collection('chroma_collection')\n",
    "\n",
    "    # Assign chroma as the vector_store to the context\n",
    "    vector_store = ChromaVectorStore(chroma_collection=chroma_collection)\n",
    "    storage_context = StorageContext.from_defaults(vector_store=vector_store)\n",
    "\n",
    "    # Load index from storage\n",
    "    index = VectorStoreIndex.from_vector_store(\n",
    "        vector_store, storage_context=storage_context\n",
    "    )\n"
   ]
  },
  {
   "cell_type": "code",
   "execution_count": null,
   "metadata": {},
   "outputs": [],
   "source": [
    "from llama_index.llms.openai import OpenAI\n",
    "from llama_index.llms.google_genai import GoogleGenAI\n",
    "\n",
    "llm_openai = OpenAI(model=\"gpt-4o-mini\", api_key=os.environ[\"OPENAI_API_KEY\"])\n",
    "llm_gemini = GoogleGenAI(model=\"gemini-2.0-flash\", api_key=os.environ[\"GEMINI_API_KEY\"])"
   ]
  },
  {
   "cell_type": "code",
   "execution_count": 16,
   "metadata": {},
   "outputs": [],
   "source": [
    "class ChapterExtraction(BaseModel):\n",
    "    \"\"\"Salida con los textos de cada capítulo y número del capítulo.\"\"\"\n",
    "\n",
    "    chapter_text: str = Field(..., description=\"El texto de cada capítulo del Tao Te Ching. (No incluye el número del capítulo)\")\n",
    "    topic: str = Field(\n",
    "        ...,\n",
    "        description=\"El tema de lo que trata el capítulo. Debe ser uno de los valores predeterminados: ['El Tao y la naturaleza del universo', 'La no-acción (Wu Wei)', 'Dualidad y equilibrio (Yin y Yang)', 'Simplicidad y humildad', 'Armonía social y liderazgo']\",\n",
    "    )\n",
    "\n",
    "    @field_validator('topic')\n",
    "    def validate_tema(cls, value):\n",
    "        allowed_values = [\n",
    "            'El Tao y la naturaleza del universo', \n",
    "            'La no-acción (Wu Wei)', \n",
    "            'Dualidad y equilibrio (Yin y Yang)', \n",
    "            'Simplicidad y humildad', \n",
    "            'Armonía social y liderazgo'\n",
    "        ]\n",
    "        if value not in allowed_values:\n",
    "            raise ValueError(f\"'{value}' no es un tema válido. Los temas permitidos son: {allowed_values}\")\n",
    "        return value\n",
    "    \n",
    "sllm_gemini = llm_gemini.as_structured_llm(output_cls=ChapterExtraction)"
   ]
  },
  {
   "cell_type": "code",
   "execution_count": null,
   "metadata": {},
   "outputs": [],
   "source": [
    "from tqdm import tqdm\n",
    "import time\n",
    "\n",
    "query_engine = index.as_query_engine(\n",
    "    similarity_top_k=50,\n",
    "    llm=sllm_gemini,\n",
    "    response_mode=\"tree_summarize\",\n",
    ")\n",
    "\n",
    "capitulos = list(range(1, 81))\n",
    "contenido_capitulos = {\n",
    "    'chapter_text': [],\n",
    "    'topic': []\n",
    "}\n",
    "for cap in tqdm(capitulos):\n",
    "    response = query_engine.query(f\"Qué dice el capítulo {cap} del Tao Te Ching?\").response.model_dump()\n",
    "    contenido_capitulos['chapter_text'].append(response['chapter_text'])\n",
    "    contenido_capitulos['topic'].append(response['topic'])\n",
    "    time.sleep(10)  # This assures that there is not 15 requests per minute (free tier API Key)\n",
    "\n",
    "# guardar `contenido_capitulos` como un json\n",
    "with open('contenido_capitulos.json', 'w') as f:\n",
    "    json.dump(contenido_capitulos, f, ensure_ascii=False, indent=4)"
   ]
  },
  {
   "cell_type": "code",
   "execution_count": 18,
   "metadata": {},
   "outputs": [],
   "source": [
    "from google import genai\n",
    "import os\n",
    "from google.genai import types\n",
    "\n",
    "client = genai.Client(api_key=os.environ[\"GEMINI_API_KEY\"])\n",
    "\n",
    "SYSTEM_PROMPT = \"\"\"\"\n",
    "Asume el rol de un erudito y practicante de la filosofía taoísta, inmerso en la escritura de un libro sobre el Tao Te Ching. Tu tarea es redactar un capítulo que explore y explique un versículo específico de esta obra atemporal.\n",
    "\n",
    "Imagina que estás escribiendo para un lector que busca una comprensión profunda y práctica del Taoísmo. Tu enfoque debe ser accesible y reflexivo, guiando al lector a través de las complejidades del texto con claridad y sabiduría.\n",
    "\n",
    "Comienza desentrañando las capas de significado inherentes al versículo elegido. Explora tanto su interpretación literal como las resonancias simbólicas que evoca dentro del contexto más amplio de la filosofía taoísta. Utiliza extractos selectos del versículo (sin necesidad de incluirlo completo) para fundamentar tus explicaciones, revelando cómo cada palabra y frase contribuye al mensaje central.\n",
    "\n",
    "A continuación, profundiza en las implicaciones filosóficas del versículo. Conecta sus ideas con los principios fundamentales del Taoísmo, como el Wu Wei (no acción), la armonía con la naturaleza y la búsqueda del equilibrio. Reflexiona sobre cómo estas enseñanzas pueden transformar nuestra comprensión del mundo y nuestro lugar en él.\n",
    "\n",
    "Trasciende la teoría y lleva la sabiduría del Tao Te Ching a la vida cotidiana. Ofrece ejemplos concretos de cómo los principios del versículo pueden aplicarse en situaciones personales, profesionales y sociales. Describe cómo la internalización de estas enseñanzas puede guiar nuestras decisiones y fomentar una existencia más auténtica y armoniosa.\n",
    "\n",
    "Finalmente, ofrece una reflexión que capture la esencia del versículo y su relevancia para el lector contemporáneo. Destaca cómo la comprensión del Tao puede desbloquear una mayor paz interior, sabiduría y una profunda conexión con el universo\n",
    "\n",
    "Estilo a tener en cuenta:\n",
    "\n",
    "Enfoque en Narrativa: Centrarse en la redacción de un capítulo de libro, lo que fomenta un estilo más narrativo y fluido en lugar de un análisis estructurado en puntos.\n",
    "\n",
    "Dividir en subsecciones: Dividir la reflexión en subsecciones, en función de los conceptos que se tratan en el capítulo del Tao especificado\n",
    "\n",
    "Eliminación de Bullet Points: Eliminar explícitamente las referencias a esquemas o listas.\n",
    "\n",
    "Lenguaje Evocador: Utilizar un lenguaje más descriptivo y evocador para inspirar una respuesta más creativa y reflexiva.\n",
    "\n",
    "Énfasis en la Guía al Lector: Guiar al lector a través del texto con claridad y sabiduría.\n",
    "\n",
    "Metáforas: Introducir metáforas\n",
    "\"\"\"\n",
    "\n",
    "USER_PROMPT = f\"\"\"\n",
    "Interpreta este capítulo del Tao Te Ching: \n",
    "```\n",
    "$/cap_text/$\n",
    "```\n",
    "\"\"\"\n",
    "\n",
    "class InterpretationSchema(BaseModel):\n",
    "    \"\"\"Salida que contiene las secciones/capítulos de cada párrafo de la interpretación\"\"\"\n",
    "    section: list[str] = Field(\n",
    "        ...,\n",
    "        description=\"Lista de secciones. Cada sección corresponde a un párrafo de la interpretación\",\n",
    "    )\n",
    "    paragraph: list[str] = Field(\n",
    "        ...,\n",
    "        description=\"Lista de párrafos. Cada párrafo corresponde a una parte de la interpretación\",\n",
    "    )\n",
    "\n",
    "# Cargar a un diccionario el json `../Quick-Examples/contenido_capitulos.json`\n",
    "with open('../Quick-Examples/contenido_capitulos.json', 'r') as f:\n",
    "    contenido_capitulos = json.load(f)"
   ]
  },
  {
   "cell_type": "code",
   "execution_count": 19,
   "metadata": {},
   "outputs": [
    {
     "name": "stdout",
     "output_type": "stream",
     "text": [
      "El T ao que puede ser expresado con palabras \n",
      "no es el T ao eterno.\n",
      "El nombre que puede ser pronunciado\n",
      "no es el nombre eterno.\n",
      "Lo que no tiene nombre es el principio del cielo y la tierra.\n",
      "Lo que tiene nombre es la madre de todas las cosas.\n",
      "La permanente ausencia de deseos\n",
      "permite contemplar el gran misterio.\n",
      "La constante presencia de deseos\n",
      "permite contemplar sus manifestaciones.\n",
      "Ambos estados tienen un origen común\n",
      "y con nombres diferentes aluden a una misma realidad.\n",
      "El infinito insondable es la puerta de todos los misterios.\n"
     ]
    }
   ],
   "source": [
    "print(contenido_capitulos['chapter_text'][0])"
   ]
  },
  {
   "cell_type": "code",
   "execution_count": 42,
   "metadata": {},
   "outputs": [
    {
     "name": "stderr",
     "output_type": "stream",
     "text": [
      "  0%|          | 0/80 [00:00<?, ?it/s]"
     ]
    },
    {
     "name": "stderr",
     "output_type": "stream",
     "text": [
      "100%|██████████| 80/80 [11:44<00:00,  8.80s/it]\n"
     ]
    }
   ],
   "source": [
    "contenido_capitulos['interpretation'] = []\n",
    "for cap in tqdm(range(len(contenido_capitulos['chapter_text']))):\n",
    "\n",
    "    response = client.models.generate_content(\n",
    "        model=\"gemini-2.0-flash\",\n",
    "        contents=USER_PROMPT.replace(\"$/cap_text/$\", contenido_capitulos['chapter_text'][cap]),\n",
    "        config=types.GenerateContentConfig(\n",
    "            system_instruction=SYSTEM_PROMPT,\n",
    "            response_mime_type=\"application/json\",\n",
    "            response_schema=InterpretationSchema,\n",
    "        ),\n",
    "    )\n",
    "\n",
    "    contenido_capitulos['interpretation'].append(json.loads(response.text))\n",
    "\n",
    "    # This assures that there is not 15 requests per minute (free tier API Key)\n",
    "    time.sleep(3)\n",
    "\n",
    "# guardar `contenido_capitulos` como un json\n",
    "with open('capitulos_con_interpretacion.json', 'w') as f:\n",
    "    json.dump(contenido_capitulos, f, ensure_ascii=False, indent=4)"
   ]
  },
  {
   "cell_type": "code",
   "execution_count": 20,
   "metadata": {},
   "outputs": [],
   "source": [
    "with open('capitulos_con_interpretacion.json', 'r') as f:\n",
    "    capitulos_con_interpretaciones = json.load(f)"
   ]
  },
  {
   "cell_type": "code",
   "execution_count": 51,
   "metadata": {},
   "outputs": [
    {
     "data": {
      "text/plain": [
       "'El T ao que puede ser expresado con palabras \\nno es el T ao eterno.\\nEl nombre que puede ser pronunciado\\nno es el nombre eterno.\\nLo que no tiene nombre es el principio del cielo y la tierra.\\nLo que tiene nombre es la madre de todas las cosas.\\nLa permanente ausencia de deseos\\npermite contemplar el gran misterio.\\nLa constante presencia de deseos\\npermite contemplar sus manifestaciones.\\nAmbos estados tienen un origen común\\ny con nombres diferentes aluden a una misma realidad.\\nEl infinito insondable es la puerta de todos los misterios.'"
      ]
     },
     "execution_count": 51,
     "metadata": {},
     "output_type": "execute_result"
    }
   ],
   "source": [
    "capitulos_con_interpretaciones['chapter_text'][0]"
   ]
  },
  {
   "cell_type": "code",
   "execution_count": 61,
   "metadata": {},
   "outputs": [],
   "source": [
    "from markdown_pdf import MarkdownPdf, Section\n",
    "\n",
    "pdf = MarkdownPdf(\n",
    "    toc_level=3,\n",
    ")\n",
    "\n",
    "portada = \"\"\"\n",
    "<style>\n",
    "@import url('https://fonts.googleapis.com/css2?family=Antic+Didone&family=Forum&family=Nunito+Sans:ital,opsz,wght@0,6..12,200..1000;1,6..12,200..1000&family=Quicksand:wght@300..700&display=swap');\n",
    "</style>\n",
    "\n",
    "# Tao Te Ching\n",
    "_**De Lao Tse**_\n",
    "## Reflexiones e Interpretaciones\n",
    "\n",
    "<div style=\"page-break-after: always;\"></div>\n",
    "\"\"\"\n",
    "\n",
    "pdf.add_section(\n",
    "    Section(\n",
    "        text=portada\n",
    "    )\n",
    ")\n",
    "\n",
    "for cap in range(len(capitulos_con_interpretaciones['chapter_text'])):\n",
    "    css = \"\"\"\n",
    "<style>\n",
    "@import url('https://fonts.googleapis.com/css2?family=Antic+Didone&family=Forum&family=Nunito+Sans:ital,opsz,wght@0,6..12,200..1000;1,6..12,200..1000&family=Quicksand:wght@300..700&display=swap');\n",
    "\n",
    ".chapter-text {\n",
    "    width: 80%;\n",
    "    margin: 0 auto;\n",
    "    font-style: italic;\n",
    "    line-height: 1.6;\n",
    "    white-space: pre-wrap;  /* Preserva los saltos de línea */\n",
    "}\n",
    "</style>\n",
    "\"\"\"\n",
    "    markdown_text = css+f\"\"\"\n",
    "# Capítulo {cap+1}\n",
    "\n",
    "**{capitulos_con_interpretaciones['topic'][cap]}**\n",
    "\n",
    "<div class=\"chapter-text\">\n",
    "{contenido_capitulos['chapter_text'][cap]}\n",
    "</div>\n",
    "\n",
    "<div style=\"page-break-after: always;\"></div>\n",
    "\n",
    "## Interpretación\n",
    "\n",
    "\"\"\"\n",
    "    # Agrega las secciones de interpretación directamente\n",
    "    for sec, par in zip(capitulos_con_interpretaciones['interpretation'][cap]['section'], \n",
    "                        capitulos_con_interpretaciones['interpretation'][cap]['paragraph']):\n",
    "        markdown_text += f\"### {sec}\\n{par}\\n\\n\"\n",
    "\n",
    "    # Agregar el contenido Markdown como una sección al PDF\n",
    "    pdf.add_section(\n",
    "        Section(\n",
    "            text=markdown_text,\n",
    "        )\n",
    "    )\n",
    "\n",
    "pdf.save(\"salida.pdf\")"
   ]
  }
 ],
 "metadata": {
  "kernelspec": {
   "display_name": "RAG",
   "language": "python",
   "name": "python3"
  },
  "language_info": {
   "codemirror_mode": {
    "name": "ipython",
    "version": 3
   },
   "file_extension": ".py",
   "mimetype": "text/x-python",
   "name": "python",
   "nbconvert_exporter": "python",
   "pygments_lexer": "ipython3",
   "version": "3.11.11"
  }
 },
 "nbformat": 4,
 "nbformat_minor": 2
}
