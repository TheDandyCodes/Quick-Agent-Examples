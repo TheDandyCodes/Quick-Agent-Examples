{
 "cells": [
  {
   "cell_type": "code",
   "execution_count": 7,
   "metadata": {},
   "outputs": [
    {
     "data": {
      "text/plain": [
       "True"
      ]
     },
     "execution_count": 7,
     "metadata": {},
     "output_type": "execute_result"
    }
   ],
   "source": [
    "from llama_index.core import (\n",
    "    VectorStoreIndex, \n",
    "    SimpleDirectoryReader,\n",
    "    StorageContext,\n",
    "    load_index_from_storage\n",
    ")\n",
    "import os.path\n",
    "from dotenv import load_dotenv\n",
    "import chromadb\n",
    "from llama_index.vector_stores.chroma import ChromaVectorStore\n",
    "\n",
    "load_dotenv()"
   ]
  },
  {
   "cell_type": "markdown",
   "metadata": {},
   "source": [
    "### Persist on Disk\n"
   ]
  },
  {
   "cell_type": "code",
   "execution_count": 8,
   "metadata": {},
   "outputs": [],
   "source": [
    "PERSIST_DIR = './storage'\n",
    "if not os.path.exists(PERSIST_DIR):\n",
    "    os.makedirs(PERSIST_DIR)\n",
    "    # Connector. This is the SimpleDirectoryReader that reads the documents from the file system\n",
    "    documents = SimpleDirectoryReader(\"data\").load_data()\n",
    "    # Verify that there are no empty documents\n",
    "    documents = SimpleDirectoryReader(\"./data\").load_data()\n",
    "    for doc in documents:\n",
    "        if not doc:\n",
    "            print(\"Documento vacío encontrado\")\n",
    "\n",
    "    # Index. This is the VectorStoreIndex that indexes the documents (Nodes in LlamaIndex)\n",
    "    # The input documents will be broken into nodes, and the embedding model will generate \n",
    "    # an embedding for each node.\n",
    "    index = VectorStoreIndex.from_documents(documents, show_progress=True)\n",
    "\n",
    "    # # IN CASE YOU WANT TO USE A CUSTOM TEXT SPLITTER\n",
    "    # from llama_index.core.node_parser import SentenceSplitter\n",
    "\n",
    "    # text_splitter = SentenceSplitter(chunk_size=512, chunk_overlap=10)\n",
    "\n",
    "    # # IN CASE YOU WANT TO USE THE SAME TEXT SPLITTER FOR ALL INDEXES\n",
    "    # from llama_index.core import Settings\n",
    "\n",
    "    # Settings.text_splitter = text_splitter\n",
    "\n",
    "    # # IN CASE YOU WANT TO USE TEXT SPLITTER ONLY FOR THIS INDEX\n",
    "    # index = VectorStoreIndex.from_documents(\n",
    "    #     documents, transformations=[text_splitter]\n",
    "    # )\n",
    "\n",
    "    # Persist the index to disk (Storage)\n",
    "    index.storage_context.persist(persist_dir=PERSIST_DIR)\n",
    "else:\n",
    "    # Rebuild storage context\n",
    "    storage_context = StorageContext.from_defaults(persist_dir=PERSIST_DIR)\n",
    "    # Load index from storage\n",
    "    index = load_index_from_storage(storage_context=storage_context)"
   ]
  },
  {
   "cell_type": "markdown",
   "metadata": {},
   "source": [
    "### Vectore Stores\n"
   ]
  },
  {
   "cell_type": "code",
   "execution_count": 9,
   "metadata": {},
   "outputs": [],
   "source": [
    "VECTOR_STORE_DIR = './chroma_db'\n",
    "if not os.path.exists(VECTOR_STORE_DIR):\n",
    "    os.makedirs(VECTOR_STORE_DIR)\n",
    "    # Load documents\n",
    "    documents = SimpleDirectoryReader(\"./data\").load_data()\n",
    "    # Verify that there are no empty documents\n",
    "    documents = SimpleDirectoryReader(\"./data\").load_data()\n",
    "    for doc in documents:\n",
    "        if not doc:\n",
    "            print(\"Documento vacío encontrado\")\n",
    "\n",
    "    # Initialize the ChromaDB client\n",
    "    db = chromadb.PersistentClient(path=VECTOR_STORE_DIR)\n",
    "\n",
    "    # Create a new collection\n",
    "    chroma_collection = db.get_or_create_collection('chroma_collection')\n",
    "\n",
    "    # Assign chroma as the vector_store to the context\n",
    "    vector_store = ChromaVectorStore(chroma_collection=chroma_collection)\n",
    "    storage_context = StorageContext.from_defaults(vector_store=vector_store)\n",
    "\n",
    "    # Create index\n",
    "    index = VectorStoreIndex.from_documents(documents, storage_context=storage_context)\n",
    "else:\n",
    "    # Initialize the ChromaDB client\n",
    "    db = chromadb.PersistentClient(path='./chroma_db')\n",
    "\n",
    "    # Get the collection\n",
    "    chroma_collection = db.get_or_create_collection('chroma_collection')\n",
    "\n",
    "    # Assign chroma as the vector_store to the context\n",
    "    vector_store = ChromaVectorStore(chroma_collection=chroma_collection)\n",
    "    storage_context = StorageContext.from_defaults(vector_store=vector_store)\n",
    "\n",
    "    # Load index from storage\n",
    "    index = VectorStoreIndex.from_vector_store(\n",
    "        vector_store, storage_context=storage_context\n",
    "    )\n"
   ]
  },
  {
   "cell_type": "markdown",
   "metadata": {},
   "source": [
    "If you've already created an index, you can add new documents to your index using the insert method."
   ]
  },
  {
   "cell_type": "code",
   "execution_count": 10,
   "metadata": {},
   "outputs": [],
   "source": [
    "# index = VectorStoreIndex([])\n",
    "# for doc in documents:\n",
    "#     index.insert(doc)"
   ]
  },
  {
   "cell_type": "markdown",
   "metadata": {},
   "source": [
    "### Querying\n"
   ]
  },
  {
   "cell_type": "code",
   "execution_count": 11,
   "metadata": {},
   "outputs": [
    {
     "data": {
      "text/plain": [
       "Response(response='El significado de la vida radica en vivir de acuerdo con la razón y la ley de la naturaleza, manteniendo la filosofía como guía para preservar el equilibrio interno, enfrentar los placeres y dolores, aceptar los eventos de la vida con serenidad y ver la muerte como parte natural de la disolución de los elementos que componen todo ser viviente.', source_nodes=[NodeWithScore(node=TextNode(id_='2eb47283-0f15-419a-be3b-7ffc4d834d55', embedding=None, metadata={'page_label': '13', 'file_name': 'Meditaciones-Marco-Aurelio.pdf', 'file_path': '/home/rprieto/RAG/data/Meditaciones-Marco-Aurelio.pdf', 'file_type': 'application/pdf', 'file_size': 1163805, 'creation_date': '2025-03-20', 'last_modified_date': '2025-03-20'}, excluded_embed_metadata_keys=['file_name', 'file_type', 'file_size', 'creation_date', 'last_modified_date', 'last_accessed_date'], excluded_llm_metadata_keys=['file_name', 'file_type', 'file_size', 'creation_date', 'last_modified_date', 'last_accessed_date'], relationships={<NodeRelationship.SOURCE: '1'>: RelatedNodeInfo(node_id='177e98ea-dcc6-46ee-a334-b6ed47ef3d51', node_type=<ObjectType.DOCUMENT: '4'>, metadata={'page_label': '13', 'file_name': 'Meditaciones-Marco-Aurelio.pdf', 'file_path': '/home/rprieto/RAG/data/Meditaciones-Marco-Aurelio.pdf', 'file_type': 'application/pdf', 'file_size': 1163805, 'creation_date': '2025-03-20', 'last_modified_date': '2025-03-20'}, hash='c73d641a3ba21d3bbb18329651539ad31cb77cd1b354fae0f10def64bf00e228')}, text='13 \\na un fin propuesto: y el fin de los seres racionales es obedecer a la razón y a la ley de la naturaleza, la más augusta de las ciudades y gobiernos. \\t17. El tiempo de la vida humana es un punto: la sustancia, fluente; la sensación, oscurecida; toda la constitución del cuerpo, corruptible; el alma, inquieta; el destino, enigmático; la fama, indefinible; en resumen, todas las cosas propias del cuerpo son a manera de un río; las del alma, sueño y vaho; la vida, una lucha, un destierro; la fama de la posteridad, olvido. ¿Qué hay, pues, que nos pueda llevar a salvamento? Una sola y única cosa: la filosofía. Y ésta consiste en conservar el dios interior sin ultraje ni daño, para que triunfe de placeres y dolores, para que no obre al acaso, y se mantenga lejos de toda falsedad y disimulo, al margen de que se haga o no se haga esto o aquello; además, para que acepte la parte que le tocare en los varios sucesos accidentales e integrantes de su parte, como procedentes de aquel origen de quien procede él mismo; y, en particular, para que aguarde la muerte en actitud plácida, no viendo en ella otra cosa más que la disolución de los elementos de que consta todo ser viviente. Si no hay nada temible para los mismos elementos en esta transformación incesante de uno en otro, ¿por qué temer la transformación y disolución de todas las otras cosas? Esto es conforme con la naturaleza: y nada es malo de cuanto a ella se acomoda. En Carnunto', mimetype='text/plain', start_char_idx=1, end_char_idx=1447, text_template='{metadata_str}\\n\\n{content}', metadata_template='{key}: {value}', metadata_seperator='\\n'), score=0.7200480748786539), NodeWithScore(node=TextNode(id_='db5cfe43-6fe7-4129-ad07-31a33f8fb599', embedding=None, metadata={'page_label': '29', 'file_name': 'Meditaciones-Marco-Aurelio.pdf', 'file_path': '/home/rprieto/RAG/data/Meditaciones-Marco-Aurelio.pdf', 'file_type': 'application/pdf', 'file_size': 1163805, 'creation_date': '2025-03-20', 'last_modified_date': '2025-03-20'}, excluded_embed_metadata_keys=['file_name', 'file_type', 'file_size', 'creation_date', 'last_modified_date', 'last_accessed_date'], excluded_llm_metadata_keys=['file_name', 'file_type', 'file_size', 'creation_date', 'last_modified_date', 'last_accessed_date'], relationships={<NodeRelationship.SOURCE: '1'>: RelatedNodeInfo(node_id='370dabdc-81d6-46ac-814b-f4e4cea37b93', node_type=<ObjectType.DOCUMENT: '4'>, metadata={'page_label': '29', 'file_name': 'Meditaciones-Marco-Aurelio.pdf', 'file_path': '/home/rprieto/RAG/data/Meditaciones-Marco-Aurelio.pdf', 'file_type': 'application/pdf', 'file_size': 1163805, 'creation_date': '2025-03-20', 'last_modified_date': '2025-03-20'}, hash='c84d3c37fe42497dd66d6d9b5bd6054dba846a78b88146f85343e4f24d09df81')}, text='29 \\n50. Un remedio sencillo, y al mismo tiempo eficaz, para llegar al menosprecio de la muerte, es pasar revista a los que se empeñan en asirse obstinadamente a la vida. ¿En qué han aventajado a los que fenecieron prematuramente? De todos modos, en algún sepulcro yacen tendidos Cadiciano, Fabio, Juliano, Lépido y sus semejantes, que, habiendo acompañado a otros muchos a la tumba, fueron también ellos enterrados. En definitiva, brevísima es la diferencia de duración en la vida; y ésta, ¡a través de cuántas pruebas, con qué compañía se hace y con qué cuerpo! No tengas, pues, esto por gran negocio. Mira detrás de ti el abismo del tiempo, y estotro infinito, por venir. Ante tal inmensidad, ¿en qué se diferencian el niño de tres días y el hombre que vivió tres veces la edad de Néstor? \\t51. Camina siempre por el atajo: y el verdadero atajo es el que sigue arreglado a la naturaleza. Por esto, habla y obra con la mayor cordura. Esta línea de conducta te librará de las fatigas, de la vida militar, de toda clase de administración, del alambicamiento de estilo.', mimetype='text/plain', start_char_idx=1, end_char_idx=1067, text_template='{metadata_str}\\n\\n{content}', metadata_template='{key}: {value}', metadata_seperator='\\n'), score=0.7119702115936545)], metadata={'2eb47283-0f15-419a-be3b-7ffc4d834d55': {'page_label': '13', 'file_name': 'Meditaciones-Marco-Aurelio.pdf', 'file_path': '/home/rprieto/RAG/data/Meditaciones-Marco-Aurelio.pdf', 'file_type': 'application/pdf', 'file_size': 1163805, 'creation_date': '2025-03-20', 'last_modified_date': '2025-03-20'}, 'db5cfe43-6fe7-4129-ad07-31a33f8fb599': {'page_label': '29', 'file_name': 'Meditaciones-Marco-Aurelio.pdf', 'file_path': '/home/rprieto/RAG/data/Meditaciones-Marco-Aurelio.pdf', 'file_type': 'application/pdf', 'file_size': 1163805, 'creation_date': '2025-03-20', 'last_modified_date': '2025-03-20'}})"
      ]
     },
     "execution_count": 11,
     "metadata": {},
     "output_type": "execute_result"
    }
   ],
   "source": [
    "query_engine =  index.as_query_engine()\n",
    "response = query_engine.query(\"Cual es el significado de la vida?\")\n",
    "response"
   ]
  },
  {
   "cell_type": "markdown",
   "metadata": {},
   "source": [
    "### Chat Engine"
   ]
  },
  {
   "cell_type": "code",
   "execution_count": 12,
   "metadata": {},
   "outputs": [
    {
     "name": "stdout",
     "output_type": "stream",
     "text": [
      "¡Hola! Veo que estás interesado en la filosofía estoica y las meditaciones de Marco Aurelio. ¿En qué puedo ayudarte hoy?\n"
     ]
    }
   ],
   "source": [
    "# Then, at query time, the embedding model will be used again to embed the query text.\n",
    "chat_engine = index.as_chat_engine(chat_mode='context', verbose=False, system_prompt=\"Eres un maestro estoico capaz de aconsejar y hablar de esta filosofía tomando de referencia las meditaciones de Marco Aurelio\", similarity_top_k=5)\n",
    "for i in range(1):\n",
    "    response = chat_engine.chat(input())\n",
    "    print(response)"
   ]
  }
 ],
 "metadata": {
  "kernelspec": {
   "display_name": "RAG",
   "language": "python",
   "name": "python3"
  },
  "language_info": {
   "codemirror_mode": {
    "name": "ipython",
    "version": 3
   },
   "file_extension": ".py",
   "mimetype": "text/x-python",
   "name": "python",
   "nbconvert_exporter": "python",
   "pygments_lexer": "ipython3",
   "version": "3.11.11"
  }
 },
 "nbformat": 4,
 "nbformat_minor": 2
}
