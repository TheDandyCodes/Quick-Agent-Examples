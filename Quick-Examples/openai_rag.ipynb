{
 "cells": [
  {
   "cell_type": "code",
   "execution_count": 2,
   "metadata": {},
   "outputs": [
    {
     "data": {
      "text/plain": [
       "True"
      ]
     },
     "execution_count": 2,
     "metadata": {},
     "output_type": "execute_result"
    }
   ],
   "source": [
    "from llama_index.core import (\n",
    "    VectorStoreIndex, \n",
    "    SimpleDirectoryReader,\n",
    "    StorageContext,\n",
    "    load_index_from_storage\n",
    ")\n",
    "import os\n",
    "from dotenv import load_dotenv\n",
    "import chromadb\n",
    "from llama_index.vector_stores.chroma import ChromaVectorStore\n",
    "\n",
    "load_dotenv()"
   ]
  },
  {
   "cell_type": "markdown",
   "metadata": {},
   "source": [
    "### Persist on Disk\n"
   ]
  },
  {
   "cell_type": "code",
   "execution_count": 3,
   "metadata": {},
   "outputs": [],
   "source": [
    "PERSIST_DIR = 'storage'\n",
    "if not os.path.exists(PERSIST_DIR):\n",
    "    os.makedirs(PERSIST_DIR)\n",
    "    # Connector. This is the SimpleDirectoryReader that reads the documents from the file system\n",
    "    documents = SimpleDirectoryReader(\"../data\").load_data()\n",
    "    # Verify that there are no empty documents\n",
    "    documents = SimpleDirectoryReader(\"../data\").load_data()\n",
    "    for doc in documents:\n",
    "        if not doc:\n",
    "            print(\"Documento vacío encontrado\")\n",
    "\n",
    "    # Index. This is the VectorStoreIndex that indexes the documents (Nodes in LlamaIndex)\n",
    "    # The input documents will be broken into nodes, and the embedding model will generate \n",
    "    # an embedding for each node.\n",
    "    index = VectorStoreIndex.from_documents(documents, show_progress=True)\n",
    "\n",
    "    # # IN CASE YOU WANT TO USE A CUSTOM TEXT SPLITTER\n",
    "    # from llama_index.core.node_parser import SentenceSplitter\n",
    "\n",
    "    # text_splitter = SentenceSplitter(chunk_size=512, chunk_overlap=10)\n",
    "\n",
    "    # # IN CASE YOU WANT TO USE THE SAME TEXT SPLITTER FOR ALL INDEXES\n",
    "    # from llama_index.core import Settings\n",
    "\n",
    "    # Settings.text_splitter = text_splitter\n",
    "\n",
    "    # # IN CASE YOU WANT TO USE TEXT SPLITTER ONLY FOR THIS INDEX\n",
    "    # index = VectorStoreIndex.from_documents(\n",
    "    #     documents, transformations=[text_splitter]\n",
    "    # )\n",
    "\n",
    "    # Persist the index to disk (Storage)\n",
    "    index.storage_context.persist(persist_dir=PERSIST_DIR)\n",
    "else:\n",
    "    # Rebuild storage context\n",
    "    storage_context = StorageContext.from_defaults(persist_dir=PERSIST_DIR)\n",
    "    # Load index from storage\n",
    "    index = load_index_from_storage(storage_context=storage_context)"
   ]
  },
  {
   "cell_type": "markdown",
   "metadata": {},
   "source": [
    "### Vector Stores\n"
   ]
  },
  {
   "cell_type": "code",
   "execution_count": 4,
   "metadata": {},
   "outputs": [],
   "source": [
    "VECTOR_STORE_DIR = 'chroma_db'\n",
    "if not os.path.exists(VECTOR_STORE_DIR):\n",
    "    os.makedirs(VECTOR_STORE_DIR)\n",
    "    # Load documents\n",
    "    documents = SimpleDirectoryReader(\"../data\").load_data()\n",
    "    # Verify that there are no empty documents\n",
    "    documents = SimpleDirectoryReader(\"../data\").load_data()\n",
    "    for doc in documents:\n",
    "        if not doc:\n",
    "            print(\"Documento vacío encontrado\")\n",
    "\n",
    "    # Initialize the ChromaDB client\n",
    "    db = chromadb.PersistentClient(path=VECTOR_STORE_DIR)\n",
    "\n",
    "    # Create a new collection\n",
    "    chroma_collection = db.get_or_create_collection('chroma_collection')\n",
    "\n",
    "    # Assign chroma as the vector_store to the context\n",
    "    vector_store = ChromaVectorStore(chroma_collection=chroma_collection)\n",
    "    storage_context = StorageContext.from_defaults(vector_store=vector_store)\n",
    "\n",
    "    # Create index\n",
    "    index = VectorStoreIndex.from_documents(documents, storage_context=storage_context)\n",
    "else:\n",
    "    # Initialize the ChromaDB client\n",
    "    db = chromadb.PersistentClient(path=VECTOR_STORE_DIR)\n",
    "\n",
    "    # Get the collection\n",
    "    chroma_collection = db.get_or_create_collection('chroma_collection')\n",
    "\n",
    "    # Assign chroma as the vector_store to the context\n",
    "    vector_store = ChromaVectorStore(chroma_collection=chroma_collection)\n",
    "    storage_context = StorageContext.from_defaults(vector_store=vector_store)\n",
    "\n",
    "    # Load index from storage\n",
    "    index = VectorStoreIndex.from_vector_store(\n",
    "        vector_store, storage_context=storage_context\n",
    "    )\n"
   ]
  },
  {
   "cell_type": "markdown",
   "metadata": {},
   "source": [
    "If you've already created an index, you can add new documents to your index using the insert method."
   ]
  },
  {
   "cell_type": "code",
   "execution_count": 5,
   "metadata": {},
   "outputs": [],
   "source": [
    "# index = VectorStoreIndex([])\n",
    "# for doc in documents:\n",
    "#     index.insert(doc)"
   ]
  },
  {
   "cell_type": "markdown",
   "metadata": {},
   "source": [
    "### Query Engine\n"
   ]
  },
  {
   "cell_type": "code",
   "execution_count": 6,
   "metadata": {},
   "outputs": [
    {
     "name": "stdout",
     "output_type": "stream",
     "text": [
      "El significado de la vida se relaciona con discernir claramente cada aspecto de la existencia, practicar la justicia, decir la verdad y aprovecharla encadenando una obra buena con otra buena, sin dejar intervalos entre ellas. Además, implica reflexionar sobre la brevedad de la vida, la infinidad del tiempo pasado y venidero, así como la poca consistencia de todo lo material. También se destaca la importancia de seguir la razón y a Dios, y de actuar conforme a las normas de la naturaleza y sentir según las exigencias de la naturaleza común.\n"
     ]
    },
    {
     "data": {
      "text/plain": [
       "[NodeWithScore(node=TextNode(id_='d69ca734-9e49-48ae-a0e3-183e43070021', embedding=None, metadata={'page_label': '24', 'file_name': 'Meditaciones-Marco-Aurelio.pdf', 'file_path': '/home/rprieto/RAG/Quick-Examples/../data/Meditaciones-Marco-Aurelio.pdf', 'file_type': 'application/pdf', 'file_size': 1163805, 'creation_date': '2025-03-20', 'last_modified_date': '2025-03-20'}, excluded_embed_metadata_keys=['file_name', 'file_type', 'file_size', 'creation_date', 'last_modified_date', 'last_accessed_date'], excluded_llm_metadata_keys=['file_name', 'file_type', 'file_size', 'creation_date', 'last_modified_date', 'last_accessed_date'], relationships={<NodeRelationship.SOURCE: '1'>: RelatedNodeInfo(node_id='8030a86e-8bae-4688-a176-892d6c081b26', node_type=<ObjectType.DOCUMENT: '4'>, metadata={'page_label': '24', 'file_name': 'Meditaciones-Marco-Aurelio.pdf', 'file_path': '/home/rprieto/RAG/Quick-Examples/../data/Meditaciones-Marco-Aurelio.pdf', 'file_type': 'application/pdf', 'file_size': 1163805, 'creation_date': '2025-03-20', 'last_modified_date': '2025-03-20'}, hash='e50309f26795448ac62d86fa23962d65f987c1c7f167f48ac30f42626002f7f7')}, text='24 \\nla hipótesis de que las almas sobrevivan a los cuerpos. Y no conviene considerar solamente la muchedumbre de cuerpos que en esta forma son sepultados, sino también la de aquellos animales de que a diario nos nutrimos y las demás especies. ¡Cuán grande es el número de seres que así se consumen y tienen como tumba, en cierto modo, el cuerpo de aquellos a quienes sirven de alimento! Y en tanto, hay lugar para ellos, porque pasan a la sangre y se transforman en aire o en fuego. ¿Cómo llegar, a este propósito, al conocimiento de la verdad? Distinguiendo la materia y la causa formal. \\t22. No te dejes arrastrar por el torbellino de las pasiones; antes bien, a todo ímpetu del instinto, ofrece lo que de justicia le toca; ante toda aprensión de la fantasía, conserva la facultad de pensar. \\t23. Me avengo, oh naturaleza del mundo, a todo lo que a ti te acomodare. Nada es para mí temprano o tardío, si para ti es sazonado. Cuanto llevan tus estaciones, oh naturaleza, todo es para mí fruto regalado. De ti viene todo, todo está en ti, todo vuelve a ti. Si el otro dice: «Oh querida ciudad de Cécrope», ¿no dirás tú: «Oh querida ciudad de Zeus»? \\t24. «Trata poco de negocios, dice el otro, si quieres conservarte en buen ánimo». ¿No fuera acaso mejor cargar con los negocios necesarios y con cuanto dictare la razón del ser naturalmente sociable, y de la manera que lo dictare? De esta suerte cosecharás, no sólo el buen ánimo que deriva del deber cumplido, sino el que proviene de una actividad moderada. En efecto, no siendo indispensables la mayor parte de nuestras palabras y de nuestras acciones, si se las cercenare se gozaría de más holgura y tranquilidad. De donde se colige que es muy del caso reflexionar en toda ocasión: ¿Será ésta una de aquellas cosas innecesarias? No solamente conviene cercenar aquellas acciones que no son necesarias, sino también las ideas. De esta forma, no serían superfluas muchas de las obras que ciertas ideas llevan consigo. \\t25. Examina cómo te va en la profesión de hombre de bien, de hombre que acepta de buen grado la parte que le toca de las disposiciones universales, satisfecho por la práctica de la justicia y con una actitud de ánimo llena de benevolencia. \\t26. ¿Has entendido esas cosas? Atiende, pues, a estas otras. No te perturbes; simplifícate a ti mismo. ¿Peca alguno? Sobre su cuenta y contra sí mismo peca. ¿Te acontece algo bueno? Bien: todo ello estaba previsto desde el principio, urdiendo la trama de tu vida. En suma, breve es la vida. Conviene aprovechar el presente, usándolo con reflexión y justicia. Si te relajas, sea sobriamente.', mimetype='text/plain', start_char_idx=1, end_char_idx=2601, text_template='{metadata_str}\\n\\n{content}', metadata_template='{key}: {value}', metadata_seperator='\\n'), score=0.7093003579908024),\n",
       " NodeWithScore(node=TextNode(id_='e38d34d1-4ed9-4e34-83b3-fefe2ca0b653', embedding=None, metadata={'page_label': '29', 'file_name': 'Meditaciones-Marco-Aurelio.pdf', 'file_path': '/home/rprieto/RAG/Quick-Examples/../data/Meditaciones-Marco-Aurelio.pdf', 'file_type': 'application/pdf', 'file_size': 1163805, 'creation_date': '2025-03-20', 'last_modified_date': '2025-03-20'}, excluded_embed_metadata_keys=['file_name', 'file_type', 'file_size', 'creation_date', 'last_modified_date', 'last_accessed_date'], excluded_llm_metadata_keys=['file_name', 'file_type', 'file_size', 'creation_date', 'last_modified_date', 'last_accessed_date'], relationships={<NodeRelationship.SOURCE: '1'>: RelatedNodeInfo(node_id='3ac4cf6c-49c1-48d4-b695-4853540c62da', node_type=<ObjectType.DOCUMENT: '4'>, metadata={'page_label': '29', 'file_name': 'Meditaciones-Marco-Aurelio.pdf', 'file_path': '/home/rprieto/RAG/Quick-Examples/../data/Meditaciones-Marco-Aurelio.pdf', 'file_type': 'application/pdf', 'file_size': 1163805, 'creation_date': '2025-03-20', 'last_modified_date': '2025-03-20'}, hash='2500096723338e3874f727c51ab8e7711d65b1ad90d816c0189ede0dc714ad1c')}, text='29 \\n50. Un remedio sencillo, y al mismo tiempo eficaz, para llegar al menosprecio de la muerte, es pasar revista a los que se empeñan en asirse obstinadamente a la vida. ¿En qué han aventajado a los que fenecieron prematuramente? De todos modos, en algún sepulcro yacen tendidos Cadiciano, Fabio, Juliano, Lépido y sus semejantes, que, habiendo acompañado a otros muchos a la tumba, fueron también ellos enterrados. En definitiva, brevísima es la diferencia de duración en la vida; y ésta, ¡a través de cuántas pruebas, con qué compañía se hace y con qué cuerpo! No tengas, pues, esto por gran negocio. Mira detrás de ti el abismo del tiempo, y estotro infinito, por venir. Ante tal inmensidad, ¿en qué se diferencian el niño de tres días y el hombre que vivió tres veces la edad de Néstor? \\t51. Camina siempre por el atajo: y el verdadero atajo es el que sigue arreglado a la naturaleza. Por esto, habla y obra con la mayor cordura. Esta línea de conducta te librará de las fatigas, de la vida militar, de toda clase de administración, del alambicamiento de estilo.', mimetype='text/plain', start_char_idx=1, end_char_idx=1067, text_template='{metadata_str}\\n\\n{content}', metadata_template='{key}: {value}', metadata_seperator='\\n'), score=0.7072936843363069),\n",
       " NodeWithScore(node=TextNode(id_='2acfb135-58e9-4a13-94eb-1ff7e7e9b670', embedding=None, metadata={'page_label': '89', 'file_name': 'Meditaciones-Marco-Aurelio.pdf', 'file_path': '/home/rprieto/RAG/Quick-Examples/../data/Meditaciones-Marco-Aurelio.pdf', 'file_type': 'application/pdf', 'file_size': 1163805, 'creation_date': '2025-03-20', 'last_modified_date': '2025-03-20'}, excluded_embed_metadata_keys=['file_name', 'file_type', 'file_size', 'creation_date', 'last_modified_date', 'last_accessed_date'], excluded_llm_metadata_keys=['file_name', 'file_type', 'file_size', 'creation_date', 'last_modified_date', 'last_accessed_date'], relationships={<NodeRelationship.SOURCE: '1'>: RelatedNodeInfo(node_id='695f0502-6392-4dcc-9b32-24e3040beab7', node_type=<ObjectType.DOCUMENT: '4'>, metadata={'page_label': '89', 'file_name': 'Meditaciones-Marco-Aurelio.pdf', 'file_path': '/home/rprieto/RAG/Quick-Examples/../data/Meditaciones-Marco-Aurelio.pdf', 'file_type': 'application/pdf', 'file_size': 1163805, 'creation_date': '2025-03-20', 'last_modified_date': '2025-03-20'}, hash='757218fdb36b14ff1a7a7f59206cb406c14b882ce1c42fa573f7521fda4b8469')}, text='89 \\n«Alábenme todo cuanto haga», será muy parecida al ojo que exige sólo lo verde y al diente que quiere únicamente lo tierno. \\t36. Nadie es tan afortunado, que en su última hora no tenga a su lado quien se alegre del triste acontecimiento. Si era hombre virtuoso y sabio, al cabo no dejará de haber quien diga para sus adentros: «¿Va a dejarnos respirar, al fin, este pedante? En realidad, con ninguno de nosotros era demasiado severo; pero yo notaba que nos reprendía en silencio». Esto, pues, se dice del hombre virtuoso. Que, por lo que respecta a nosotros, ¡cuántas otras razones hay para que no pocos deseen verse libres de nuestra compañía! Si pensares en esto estando para morir, partirías más fácilmente gracias a estas reflexiones: «Parto de la vida en tales circunstancias, que hasta mis compañeros, que me han costado tantos afanes, ruegos y cuitas, son los primeros en desear que me salga, esperando recibir con mi muerte algún alivio». ¿Por qué apetecer, entonces, el mantenerse aquí por más tiempo? Con todo, no por eso partas con sentimientos menos benignos para con ellos; antes bien, fiel siempre a tu modo de ser, muéstrate su amigo, benévolo y placentero; no parezca tampoco que te arrancan de su compañía, sino que, así como en una dulce muerte el alma se desprende con facilidad del cuerpo, así también debes separarte de ellos, pues con ellos la naturaleza te enlazó y fundió íntimamente. —¡Pero es que ya hoy me arranca de ellos! Me dejo, pues, desprender, como de mis domésticos, sin resistir, sino voluntariamente, que también tal separación es cosa conforme con la naturaleza. \\t37. Acostúmbrate, en todo aquello que veas hacer, en cuanto te sea posible, a preguntarte a ti mismo: «Este ¿qué fin lleva en eso?». Mas procura empezar por ti mismo y examínate a ti mismo primeramente. \\t38. Acuérdate de que lo que te agita a manera de un títere es una cierta fuerza oculta en tu interior; y esta fuerza es la actividad, es la vida, es, si así puede decirse, el hombre mismo. Nunca confunda tu imaginación esta fuerza con el receptáculo que lo encierra y los miembros moldeados a su alrededor; porque éstos son muy parecidos a los utensilios, y sólo diferentes en que nos pertenecen por nacimiento. Puesto que, estas partes de nosotros mismos, sin la causa que los moviliza y les torna el reposo, no tendrían otra utilidad que la que tiene la lanzadora para la tejedora, la pluma para el escribano, el látigo para el cochero.', mimetype='text/plain', start_char_idx=1, end_char_idx=2448, text_template='{metadata_str}\\n\\n{content}', metadata_template='{key}: {value}', metadata_seperator='\\n'), score=0.7038360599603615),\n",
       " NodeWithScore(node=TextNode(id_='41dd1903-763b-425e-be62-ca528bfefcbe', embedding=None, metadata={'page_label': '99', 'file_name': 'Meditaciones-Marco-Aurelio.pdf', 'file_path': '/home/rprieto/RAG/Quick-Examples/../data/Meditaciones-Marco-Aurelio.pdf', 'file_type': 'application/pdf', 'file_size': 1163805, 'creation_date': '2025-03-20', 'last_modified_date': '2025-03-20'}, excluded_embed_metadata_keys=['file_name', 'file_type', 'file_size', 'creation_date', 'last_modified_date', 'last_accessed_date'], excluded_llm_metadata_keys=['file_name', 'file_type', 'file_size', 'creation_date', 'last_modified_date', 'last_accessed_date'], relationships={<NodeRelationship.SOURCE: '1'>: RelatedNodeInfo(node_id='07e35e57-2a44-4df3-878c-610e36a71a84', node_type=<ObjectType.DOCUMENT: '4'>, metadata={'page_label': '99', 'file_name': 'Meditaciones-Marco-Aurelio.pdf', 'file_path': '/home/rprieto/RAG/Quick-Examples/../data/Meditaciones-Marco-Aurelio.pdf', 'file_type': 'application/pdf', 'file_size': 1163805, 'creation_date': '2025-03-20', 'last_modified_date': '2025-03-20'}, hash='2a19e0242ccb993f4f530e0b0170bd886126b734f08202da5d65e10a2b4e5fea')}, text='99 \\ndescribe el mundo, «Una esfera perfecta, ufana de su equilibrada redondez»; y sólo diriges tus cuidados a vivir bien el momento que vives, a saber, el presente; entonces podrás, sin duda, pasar el resto de tu vida hasta la muerte con toda calma, benignidad y armonía con tu mismo buen Genio interno. \\t4. Muchas veces me pregunto, maravillado, cómo es que amándose cada uno a sí mismo más que a todos los otros, estime en menos la opinión propia formada de sí, que la opinión ajena que se merece. Puesto que si un dios apareciéndose a uno de nosotros, o si un sabio maestro ordenase a uno de nosotros no imaginar, no pensar nada, sin proferirlo al mismo punto en voz alta, no habría quien pudiera soportarlo un solo día. En esta conformidad, respetamos más al prójimo cuando opina algo acerca de nosotros que a nosotros mismos. \\t5. ¡Cómo es posible que los dioses, habiendo dispuesto todas las cosas con tanta sabiduría y amor hacia el hombre, hayan descuidado este último pormenor, a saber, que un determinado número de hombres de virtud acrisolada, después de haber tenido, por así decirlo, un pacto de alianza con la divinidad, habiéndose hecho por largo tiempo, gracias a su conducta piadosa y sagrados cultos, familiares con la divinidad, después que hubieren muerto, no hayan de volver a la vida, antes bien hayan de desaparecer para siempre! Dado que esto sea así, ten por cierto que, si hubiera sido del caso hacer las cosas de otra manera, los dioses lo habrían procurado. Porque si era justo, también era posible; si hubiera sido conforme con la naturaleza, la naturaleza lo hubiera puesto por obra. Y como no sucede de esta suerte, si es que así no sucede, da por seguro que no convenía que se hiciese en esta conformidad. Y en realidad, bien ves tú mismo que, proponiéndote esta necia cuestión, pleiteas con la misma divinidad; y no discutiríamos así con los dioses, de no ser ellos muy buenos y muy justos. Siendo así, no han podido por una negligencia contraria a la justicia y a la razón, descuidar cosa alguna perteneciente al buen régimen del universo. \\t6. Acostúmbrate a ejercitarte aun en aquellas cosas de que desconfías. Pues es así que la mano izquierda, no siendo a propósito para otras acciones por falta de uso, sostiene, con todo, las bridas más fuertemente que la derecha, por cuanto ya se habituó a ello. \\t7. Piensa en qué estado conviene hallarse, de cuerpo y alma, cuando te sorprenda la muerte; reflexiona sobre la brevedad de la vida, la infinidad del tiempo pasado y venidero, y sobre la poca consistencia de todo lo material. \\t8. Mira las causas formales despojadas de sus escorias; atiende al fin de las acciones; considera qué viene a ser el dolor, el placer, la muerte, la gloria; que el hombre es el', mimetype='text/plain', start_char_idx=1, end_char_idx=2741, text_template='{metadata_str}\\n\\n{content}', metadata_template='{key}: {value}', metadata_seperator='\\n'), score=0.7009067772884078),\n",
       " NodeWithScore(node=TextNode(id_='2fd4fd4f-a72a-4f42-addc-3d872c6df865', embedding=None, metadata={'page_label': '103', 'file_name': 'Meditaciones-Marco-Aurelio.pdf', 'file_path': '/home/rprieto/RAG/Quick-Examples/../data/Meditaciones-Marco-Aurelio.pdf', 'file_type': 'application/pdf', 'file_size': 1163805, 'creation_date': '2025-03-20', 'last_modified_date': '2025-03-20'}, excluded_embed_metadata_keys=['file_name', 'file_type', 'file_size', 'creation_date', 'last_modified_date', 'last_accessed_date'], excluded_llm_metadata_keys=['file_name', 'file_type', 'file_size', 'creation_date', 'last_modified_date', 'last_accessed_date'], relationships={<NodeRelationship.SOURCE: '1'>: RelatedNodeInfo(node_id='1be5a99a-7110-494d-8c40-895b93f1d445', node_type=<ObjectType.DOCUMENT: '4'>, metadata={'page_label': '103', 'file_name': 'Meditaciones-Marco-Aurelio.pdf', 'file_path': '/home/rprieto/RAG/Quick-Examples/../data/Meditaciones-Marco-Aurelio.pdf', 'file_type': 'application/pdf', 'file_size': 1163805, 'creation_date': '2025-03-20', 'last_modified_date': '2025-03-20'}, hash='362c8d5678ed0da98d4974b8e4cf065c15d2981e9f093490a79e0c0c1b8199b8')}, text='103 \\n\\t28. A los que te preguntaren: «¿En dónde viste a los dioses, y cómo compruebas su existencia, para darles ese culto?», respóndeles, ante todo, que son visibles a nuestros ojos; además, aunque yo no haya visto mi alma, con todo también la respeto. Y lo mismo acontece con los dioses: por las mismas razones que experimento los efectos de su poder en todas las coyunturas, comprendo que existen y los venero. \\t29. La conservación de la vida estriba en discernir claramente cuál es cada cosa de por sí, cuál es su materia, cuál es su causa formal; en practicar con toda el alma la justicia, decir la verdad. ¿Y qué más falta ya, sino aprovechar la vida encadenando una obra buena con otra buena, sin dejar el menor intervalo entre ellas? \\t30. Una misma es la luz del sol, aunque se vea impedida por muros, montañas y una infinidad de obstáculos; una es la materia común, por más que se halle dividida en infinitos cuerpos individuales; uno es el soplo vital, aunque se parta en una infinidad de naturalezas dentro de sus límites respectivos; una es el alma racional, aunque parezca estar dividida. Y a la verdad, las otras partes de las cosas aludidas, como las respiraciones y los objetos sensibles, se desconocen y no tienen vínculo que mutuamente las una; pero estos mismos seres permanecen conectados por la fuerza que los une y por la atracción del centro de gravedad. La inteligencia, por el contrario, por privilegio singular, se aficiona a lo que es de su mismo género, y se le une, sin que esta necesidad de comunicación ceda a los obstáculos. \\t31. ¿Qué anhelas aún? ¿Prolongar tu existencia? ¿Acaso para sentir, moverte, crecer, y cesar luego, hablar, pensar? ¿Cuál de estas cosas encuentras acreedora a tu codicia? Pero si cada una de estas facultades la tienes por vil, inclínate, en último término, a seguir la razón y a Dios. Pero son dos cosas opuestas el seguirlos y el acongojarse porque la muerte nos prive de aquellas facultades. \\t32. ¡Cuán pequeña parte del tiempo, infinito e insondable, se ha distribuido a cada uno, puesto que en un momento va a abismarse en la nada! ¡Cuán pequeña porción de la substancia universal! ¡Cuán pequeña parte de la vida universal! ¡Cuán pequeña gleba de toda la tierra es ésta en que te arrastras! Considerando todo esto, nada estimes por cosa grande, sino el obrar conforme a las normas de tu naturaleza y el sentir según las exigencias de la naturaleza común. \\t33. ¿Cómo usa de ti mismo tu facultad rectora? En esto estriba todo. Lo demás, o pertenezca o escape a tu libre albedrío, no es más que cadáver y humo.', mimetype='text/plain', start_char_idx=1, end_char_idx=2570, text_template='{metadata_str}\\n\\n{content}', metadata_template='{key}: {value}', metadata_seperator='\\n'), score=0.696655954135406)]"
      ]
     },
     "execution_count": 6,
     "metadata": {},
     "output_type": "execute_result"
    }
   ],
   "source": [
    "top_k = 5\n",
    "response_mode = \"tree_summarize\" # Good for concise answers (summarization)\n",
    "\n",
    "query_engine =  index.as_query_engine(\n",
    "    similarity_top_k=top_k,\n",
    "    response_mode=response_mode,)\n",
    "response = query_engine.query(\"Cual es el significado de la vida?\")\n",
    "print(response.response)\n",
    "response.source_nodes # TODO: What is this and what is used for?"
   ]
  },
  {
   "cell_type": "markdown",
   "metadata": {},
   "source": [
    "### Chat Engine"
   ]
  },
  {
   "cell_type": "markdown",
   "metadata": {},
   "source": [
    "**Available Chat Modes**\n",
    "- `best` - Turn the query engine into a tool, for use with a ReAct data agent or an OpenAI data agent, depending on what your LLM supports. OpenAI data agents require gpt-3.5-turbo or gpt-4 as they use the - function calling API from OpenAI.\n",
    "\n",
    "- `condense_question` - Look at the chat history and re-write the user message to be a query for the index. Return the response after reading the response from the query engine.\n",
    "\n",
    "- `context` - Retrieve nodes from the index using every user message. The retrieved text is inserted into the system prompt, so that the chat engine can either respond naturally or use the context from the query engine.\n",
    "\n",
    "- `condense_plus_context` - A combination of condense_question and context. Look at the chat history and re-write the user message to be a retrieval query for the index. The retrieved text is inserted into the system prompt, so that the chat engine can either respond naturally or use the context from the query engine.\n",
    "\n",
    "- `simple` - A simple chat with the LLM directly, no query engine involved.\n",
    "\n",
    "- `react` - Same as best, but forces a ReAct data agent.\n",
    "\n",
    "- `openai` - Same as best, but forces an OpenAI data agent."
   ]
  },
  {
   "cell_type": "code",
   "execution_count": null,
   "metadata": {},
   "outputs": [],
   "source": [
    "# Then, at query time, the embedding model will be used again to embed the query text.\n",
    "system_prompt = \"Eres un maestro estoico capaz de aconsejar y hablar de esta filosofía tomando de referencia las meditaciones de Marco Aurelio\"\n",
    "chat_engine = index.as_chat_engine(chat_mode='context', verbose=False, system_prompt=system_prompt, similarity_top_k=5)\n",
    "for i in range(1):\n",
    "    response = chat_engine.chat(input())\n",
    "    print(response)"
   ]
  },
  {
   "cell_type": "code",
   "execution_count": null,
   "metadata": {},
   "outputs": [
    {
     "name": "stdout",
     "output_type": "stream",
     "text": [
      "Ah, dear mortal, death is but a passage, a transition from this earthly realm to the unknown. It is a journey all must take, a fate that awaits every living soul. Yet, fear not this inevitable end, for in death lies the ultimate truth of our existence. It is a mystery, a part of the grand design of the universe, where the soul may find peace and rest. Embrace death as a natural part of life's cycle, for in its embrace, we may find solace and understanding.\n"
     ]
    }
   ],
   "source": [
    "# Predefined prompts example\n",
    "from llama_index.core.prompts.system import SHAKESPEARE_WRITING_ASSISTANT\n",
    "system_prompt=SHAKESPEARE_WRITING_ASSISTANT\n",
    "chat_engine = index.as_chat_engine(chat_mode='context', verbose=False, system_prompt=system_prompt, similarity_top_k=5)\n",
    "for i in range(1):\n",
    "    response = chat_engine.chat(input())\n",
    "    print(response)"
   ]
  },
  {
   "cell_type": "markdown",
   "metadata": {},
   "source": [
    "### Structured Output"
   ]
  },
  {
   "cell_type": "code",
   "execution_count": 8,
   "metadata": {},
   "outputs": [],
   "source": [
    "from llama_index.llms.openai import OpenAI\n",
    "\n",
    "llm = OpenAI(model=\"gpt-4o-mini\")"
   ]
  },
  {
   "cell_type": "code",
   "execution_count": 29,
   "metadata": {},
   "outputs": [],
   "source": [
    "from pydantic import BaseModel, Field\n",
    "from typing import List\n",
    "\n",
    "\n",
    "class Output(BaseModel):\n",
    "    \"\"\"Output containing the response, page numbers, and confidence.\"\"\"\n",
    "\n",
    "    response: str = Field(..., description=\"The answer to the question. It has to be maximum 10 words long.\")\n",
    "    example: list[str] = Field(..., description=\"3 literal full examples from the documents that supports the answer.\")\n",
    "    page_numbers: List[int] = Field(\n",
    "        ...,\n",
    "        description=\"The page numbers of the sources used to answer this question. Do not include a page number if the context is irrelevant.\",\n",
    "    )\n",
    "    confidence: float = Field(\n",
    "        ...,\n",
    "        description=\"Confidence value between 0-1 of the correctness of the result.\",\n",
    "    )\n",
    "    confidence_explanation: str = Field(\n",
    "        ..., description=\"Explanation for the confidence score\"\n",
    "    )\n",
    "\n",
    "\n",
    "sllm = llm.as_structured_llm(output_cls=Output)"
   ]
  },
  {
   "cell_type": "code",
   "execution_count": 30,
   "metadata": {},
   "outputs": [],
   "source": [
    "query_engine = index.as_query_engine(\n",
    "    similarity_top_k=5,\n",
    "    llm=sllm,\n",
    "    response_mode=\"tree_summarize\",  # you can also select other modes like `compact`, `refine`\n",
    ")"
   ]
  },
  {
   "cell_type": "code",
   "execution_count": 31,
   "metadata": {},
   "outputs": [
    {
     "name": "stderr",
     "output_type": "stream",
     "text": [
      "/tmp/ipykernel_2477461/3359182344.py:2: PydanticDeprecatedSince20: The `dict` method is deprecated; use `model_dump` instead. Deprecated in Pydantic V2.0 to be removed in V3.0. See Pydantic V2 Migration Guide at https://errors.pydantic.dev/2.10/migration/\n",
      "  response.response.dict()\n"
     ]
    },
    {
     "data": {
      "text/plain": [
       "{'response': 'La muerte es una transformación natural.',\n",
       " 'example': ['La cesación de una actividad no es mal alguno.',\n",
       "  'Toda mutación es aquí una muerte.',\n",
       "  'Considera siempre las cosas humanas como efímeras.'],\n",
       " 'page_numbers': [76, 28, 29],\n",
       " 'confidence': 0.9,\n",
       " 'confidence_explanation': 'The examples provided directly relate to the concept of death as a natural transformation and its ephemeral nature.'}"
      ]
     },
     "execution_count": 31,
     "metadata": {},
     "output_type": "execute_result"
    }
   ],
   "source": [
    "response = query_engine.query(\"Cual es el significado de la muerte?\")\n",
    "response.response.dict()"
   ]
  }
 ],
 "metadata": {
  "kernelspec": {
   "display_name": "RAG",
   "language": "python",
   "name": "python3"
  },
  "language_info": {
   "codemirror_mode": {
    "name": "ipython",
    "version": 3
   },
   "file_extension": ".py",
   "mimetype": "text/x-python",
   "name": "python",
   "nbconvert_exporter": "python",
   "pygments_lexer": "ipython3",
   "version": "3.11.11"
  }
 },
 "nbformat": 4,
 "nbformat_minor": 2
}
