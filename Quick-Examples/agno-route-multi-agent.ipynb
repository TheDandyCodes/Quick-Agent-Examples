{
 "cells": [
  {
   "cell_type": "code",
   "execution_count": 11,
   "id": "e939b7a8",
   "metadata": {},
   "outputs": [
    {
     "data": {
      "text/plain": [
       "True"
      ]
     },
     "execution_count": 11,
     "metadata": {},
     "output_type": "execute_result"
    }
   ],
   "source": [
    "from agno.agent import Agent\n",
    "from agno.knowledge.website import WebsiteKnowledgeBase\n",
    "from agno.models.google import Gemini\n",
    "from agno.team.team import Team\n",
    "from agno.tools.duckduckgo import DuckDuckGoTools\n",
    "from agno.tools.exa import ExaTools\n",
    "from agno.tools.slack import SlackTools\n",
    "from agno.vectordb.lancedb import LanceDb\n",
    "import os\n",
    "\n",
    "from dotenv import load_dotenv\n",
    "\n",
    "load_dotenv()"
   ]
  },
  {
   "cell_type": "code",
   "execution_count": 12,
   "id": "f2fe7bd5",
   "metadata": {},
   "outputs": [
    {
     "data": {
      "text/html": [
       "<pre style=\"white-space:pre;overflow-x:auto;line-height:normal;font-family:Menlo,'DejaVu Sans Mono',consolas,'Courier New',monospace\"><span style=\"color: #5fd7ff; text-decoration-color: #5fd7ff\">INFO</span> Embedder not provided, using OpenAIEmbedder as default.                                                       \n",
       "</pre>\n"
      ],
      "text/plain": [
       "\u001b[38;5;81mINFO\u001b[0m Embedder not provided, using OpenAIEmbedder as default.                                                       \n"
      ]
     },
     "metadata": {},
     "output_type": "display_data"
    },
    {
     "data": {
      "text/html": [
       "<pre style=\"white-space:pre;overflow-x:auto;line-height:normal;font-family:Menlo,'DejaVu Sans Mono',consolas,'Courier New',monospace\"><span style=\"color: #5fd7ff; text-decoration-color: #5fd7ff\">INFO</span> Loading knowledge base                                                                                        \n",
       "</pre>\n"
      ],
      "text/plain": [
       "\u001b[38;5;81mINFO\u001b[0m Loading knowledge base                                                                                        \n"
      ]
     },
     "metadata": {},
     "output_type": "display_data"
    }
   ],
   "source": [
    "knowledge_base = WebsiteKnowledgeBase(\n",
    "    urls=[\"https://docs.agno.com/introduction\"],\n",
    "    # Number of links to follow from the seed URLs\n",
    "    max_links=10,\n",
    "    # Table name: ai.website_documents\n",
    "    vector_db=LanceDb(\n",
    "        uri=\"./my_vector_db\",\n",
    "        table_name=\"website_documents\",\n",
    "    ),\n",
    ")\n",
    "\n",
    "knowledge_base.load(recreate=False)"
   ]
  },
  {
   "cell_type": "code",
   "execution_count": 13,
   "id": "957bedc1",
   "metadata": {},
   "outputs": [],
   "source": [
    "support_channel = \"support\"\n",
    "feedback_channel = \"feedback\"\n",
    "\n",
    "llm_model = Gemini(id=\"gemini-2.5-flash-preview-05-20\", api_key=os.environ[\"GEMINI_API_KEY\"])"
   ]
  },
  {
   "cell_type": "code",
   "execution_count": 14,
   "id": "daae040a",
   "metadata": {},
   "outputs": [],
   "source": [
    "doc_researcher_agent = Agent(\n",
    "    name=\"Doc researcher Agent\",\n",
    "    role=\"Search the knowledge base for information\",\n",
    "    model=llm_model,\n",
    "    tools=[DuckDuckGoTools(), ExaTools()],\n",
    "    knowledge=knowledge_base,\n",
    "    search_knowledge=True,\n",
    "    instructions=[\n",
    "        \"You are a documentation expert for given product. Search the knowledge base thoroughly to answer user questions.\",\n",
    "        \"Always provide accurate information based on the documentation.\",\n",
    "        \"If the question matches an FAQ, provide the specific FAQ answer from the documentation.\",\n",
    "        \"When relevant, include direct links to specific documentation pages that address the user's question.\",\n",
    "        \"If you're unsure about an answer, acknowledge it and suggest where the user might find more information.\",\n",
    "        \"Format your responses clearly with headings, bullet points, and code examples when appropriate.\",\n",
    "        \"Always verify that your answer directly addresses the user's specific question.\",\n",
    "        \"If you cannot find the answer in the documentation knowledge base, use the DuckDuckGoTools or ExaTools to search the web for relevant information to answer the user's question.\",\n",
    "    ],\n",
    ")"
   ]
  },
  {
   "cell_type": "code",
   "execution_count": 15,
   "id": "a540c70c",
   "metadata": {},
   "outputs": [],
   "source": [
    "escalation_manager_agent = Agent(\n",
    "    name=\"Escalation Manager Agent\",\n",
    "    role=\"Escalate the issue to the slack channel\",\n",
    "    model=llm_model,\n",
    "    tools=[SlackTools()],\n",
    "    instructions=[\n",
    "        \"You are an escalation manager responsible for routing critical issues to the support team.\",\n",
    "        f\"When a user reports an issue, always send it to the #{support_channel} Slack channel with all relevant details using the send_message toolkit function.\",\n",
    "        \"Include the user's name, contact information (if available), and a clear description of the issue.\",\n",
    "        \"After escalating the issue, respond to the user confirming that their issue has been escalated.\",\n",
    "        \"Your response should be professional and reassuring, letting them know the support team will address it soon.\",\n",
    "        \"Always include a ticket or reference number if available to help the user track their issue.\",\n",
    "        \"Never attempt to solve technical problems yourself - your role is strictly to escalate and communicate.\",\n",
    "    ],\n",
    ")"
   ]
  },
  {
   "cell_type": "code",
   "execution_count": 16,
   "id": "cd9ed789",
   "metadata": {},
   "outputs": [],
   "source": [
    "feedback_collector_agent = Agent(\n",
    "    name=\"Feedback Collector Agent\",\n",
    "    role=\"Collect feedback from the user\",\n",
    "    model=llm_model,\n",
    "    tools=[SlackTools()],\n",
    "    description=\"You are an AI agent that can collect feedback from the user.\",\n",
    "    instructions=[\n",
    "        \"You are responsible for collecting user feedback about the product or feature requests.\",\n",
    "        f\"When a user provides feedback or suggests a feature, use the Slack tool to send it to the #{feedback_channel} channel using the send_message toolkit function.\",\n",
    "        \"Include all relevant details from the user's feedback in your Slack message.\",\n",
    "        \"After sending the feedback to Slack, respond to the user professionally, thanking them for their input.\",\n",
    "        \"Your response should acknowledge their feedback and assure them that it will be taken into consideration.\",\n",
    "        \"Be warm and appreciative in your tone, as user feedback is valuable for improving our product.\",\n",
    "        \"Do not promise specific timelines or guarantee that their suggestions will be implemented.\",\n",
    "    ],\n",
    ")"
   ]
  },
  {
   "cell_type": "code",
   "execution_count": 17,
   "id": "2f0ed93d",
   "metadata": {},
   "outputs": [],
   "source": [
    "customer_support_team = Team(\n",
    "    name=\"Customer Support Team\",\n",
    "    mode=\"route\",\n",
    "    model=llm_model,\n",
    "    enable_team_history=True,\n",
    "    members=[doc_researcher_agent, escalation_manager_agent, feedback_collector_agent],\n",
    "    show_tool_calls=True,\n",
    "    markdown=True,\n",
    "    debug_mode=False,\n",
    "    show_members_responses=True,\n",
    "    instructions=[\n",
    "        \"You are the lead customer support agent responsible for classifying and routing customer inquiries.\",\n",
    "        \"Carefully analyze each user message and determine if it is: a question that needs documentation research, a bug report that requires escalation, or product feedback.\",\n",
    "        \"For general questions about the product, route to the doc_researcher_agent who will search documentation for answers.\",\n",
    "        \"If the doc_researcher_agent cannot find an answer to a question, escalate it to the escalation_manager_agent.\",\n",
    "        \"For bug reports or technical issues, immediately route to the escalation_manager_agent.\",\n",
    "        \"For feature requests or product feedback, route to the feedback_collector_agent.\",\n",
    "        \"Always provide a clear explanation of why you're routing the inquiry to a specific agent.\",\n",
    "        \"After receiving a response from the appropriate agent, relay that information back to the user in a professional and helpful manner.\",\n",
    "        \"Ensure a seamless experience for the user by maintaining context throughout the conversation.\",\n",
    "    ],\n",
    "    # Allows the Team Leader to maintain and manage a shared context \n",
    "    # that gets updated intelligently during the team's execution\n",
    "    # and is shared with team members when needed.\n",
    "    enable_agentic_context=True\n",
    ")"
   ]
  },
  {
   "cell_type": "code",
   "execution_count": 18,
   "id": "3c6196a6",
   "metadata": {},
   "outputs": [
    {
     "data": {
      "text/html": [
       "<pre style=\"white-space:pre;overflow-x:auto;line-height:normal;font-family:Menlo,'DejaVu Sans Mono',consolas,'Courier New',monospace\"><span style=\"color: #000080; text-decoration-color: #000080\">INFO</span> Found <span style=\"color: #008080; text-decoration-color: #008080; font-weight: bold\">5</span> documents                                                                                             \n",
       "</pre>\n"
      ],
      "text/plain": [
       "\u001b[34mINFO\u001b[0m Found \u001b[1;36m5\u001b[0m documents                                                                                             \n"
      ]
     },
     "metadata": {},
     "output_type": "display_data"
    },
    {
     "data": {
      "text/html": [
       "<pre style=\"white-space:pre;overflow-x:auto;line-height:normal;font-family:Menlo,'DejaVu Sans Mono',consolas,'Courier New',monospace\"></pre>\n"
      ],
      "text/plain": []
     },
     "metadata": {},
     "output_type": "display_data"
    }
   ],
   "source": [
    "# Add in the query and the agent redirects it to the appropriate agent\n",
    "customer_support_team.print_response(\n",
    "    \"Hi Team, I want to build an educational platform where the models are have access to tons of study materials, How can Agno platform help me build this?\",\n",
    "    stream=True,\n",
    ")"
   ]
  },
  {
   "cell_type": "code",
   "execution_count": 19,
   "id": "ae9fef9f",
   "metadata": {},
   "outputs": [
    {
     "data": {
      "text/html": [
       "<pre style=\"white-space:pre;overflow-x:auto;line-height:normal;font-family:Menlo,'DejaVu Sans Mono',consolas,'Courier New',monospace\"></pre>\n"
      ],
      "text/plain": []
     },
     "metadata": {},
     "output_type": "display_data"
    }
   ],
   "source": [
    "customer_support_team.print_response(\n",
    "    \"[Feature Request] Support json schemas in Gemini client in addition to pydantic base model\",\n",
    "    stream=True,\n",
    ")"
   ]
  },
  {
   "cell_type": "code",
   "execution_count": 20,
   "id": "233f4abc",
   "metadata": {},
   "outputs": [
    {
     "data": {
      "text/html": [
       "<pre style=\"white-space:pre;overflow-x:auto;line-height:normal;font-family:Menlo,'DejaVu Sans Mono',consolas,'Courier New',monospace\"></pre>\n"
      ],
      "text/plain": []
     },
     "metadata": {},
     "output_type": "display_data"
    }
   ],
   "source": [
    "customer_support_team.print_response(\n",
    "    \"[Bug] Async tools in team of agents not awaited properly, causing runtime errors \",\n",
    "    stream=True,\n",
    ")"
   ]
  }
 ],
 "metadata": {
  "kernelspec": {
   "display_name": "llama_env",
   "language": "python",
   "name": "python3"
  },
  "language_info": {
   "codemirror_mode": {
    "name": "ipython",
    "version": 3
   },
   "file_extension": ".py",
   "mimetype": "text/x-python",
   "name": "python",
   "nbconvert_exporter": "python",
   "pygments_lexer": "ipython3",
   "version": "3.11.11"
  }
 },
 "nbformat": 4,
 "nbformat_minor": 5
}
