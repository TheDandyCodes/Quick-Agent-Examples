{
 "cells": [
  {
   "cell_type": "markdown",
   "id": "97f535ad",
   "metadata": {},
   "source": [
    "### User Prompt"
   ]
  },
  {
   "cell_type": "code",
   "execution_count": 1,
   "id": "e6adc7bb",
   "metadata": {},
   "outputs": [],
   "source": [
    "prompt = \"\"\"\n",
    "Teniendo en cuenta la siguiente convocatoria de subvención:\n",
    "{convocatoria}\n",
    "\n",
    "También ten en cuenta las siguientes bases de subvención:\n",
    "{bases}\n",
    "\n",
    "Y la resolución de la subvención:\n",
    "{resolucion}\n",
    "\n",
    "Por favor, hazme un esquema muy escueta de 4 puntos concisos\n",
    "\n",
    "\"\"\""
   ]
  },
  {
   "cell_type": "markdown",
   "id": "2a86d0d9",
   "metadata": {},
   "source": [
    "### PDF to Text"
   ]
  },
  {
   "cell_type": "code",
   "execution_count": 2,
   "id": "186c96e2",
   "metadata": {},
   "outputs": [
    {
     "name": "stdout",
     "output_type": "stream",
     "text": [
      "Unexpected exception formatting exception. Falling back to standard exception\n"
     ]
    },
    {
     "name": "stderr",
     "output_type": "stream",
     "text": [
      "Traceback (most recent call last):\n",
      "  File \"/home/rprieto/miniconda3/envs/RAG/lib/python3.11/site-packages/IPython/core/interactiveshell.py\", line 3549, in run_code\n",
      "  File \"/tmp/ipykernel_2333197/4231322894.py\", line 1, in <module>\n",
      "    import PyPDF2\n",
      "ModuleNotFoundError: No module named 'PyPDF2'\n",
      "\n",
      "During handling of the above exception, another exception occurred:\n",
      "\n",
      "Traceback (most recent call last):\n",
      "  File \"/home/rprieto/miniconda3/envs/RAG/lib/python3.11/site-packages/pygments/styles/__init__.py\", line 45, in get_style_by_name\n",
      "ModuleNotFoundError: No module named 'pygments.styles.default'\n",
      "\n",
      "During handling of the above exception, another exception occurred:\n",
      "\n",
      "Traceback (most recent call last):\n",
      "  File \"/home/rprieto/miniconda3/envs/RAG/lib/python3.11/site-packages/IPython/core/interactiveshell.py\", line 2173, in showtraceback\n",
      "  File \"/home/rprieto/miniconda3/envs/RAG/lib/python3.11/site-packages/IPython/core/ultratb.py\", line 1182, in structured_traceback\n",
      "  File \"/home/rprieto/miniconda3/envs/RAG/lib/python3.11/site-packages/IPython/core/ultratb.py\", line 1053, in structured_traceback\n",
      "  File \"/home/rprieto/miniconda3/envs/RAG/lib/python3.11/site-packages/IPython/core/ultratb.py\", line 861, in structured_traceback\n",
      "  File \"/home/rprieto/miniconda3/envs/RAG/lib/python3.11/site-packages/IPython/core/ultratb.py\", line 745, in format_exception_as_a_whole\n",
      "  File \"/home/rprieto/miniconda3/envs/RAG/lib/python3.11/site-packages/IPython/core/ultratb.py\", line 684, in prepare_header\n",
      "  File \"/home/rprieto/miniconda3/envs/RAG/lib/python3.11/site-packages/IPython/utils/PyColorize.py\", line 64, in format\n",
      "  File \"/home/rprieto/miniconda3/envs/RAG/lib/python3.11/site-packages/IPython/utils/PyColorize.py\", line 54, in as_pygments_style\n",
      "  File \"/home/rprieto/miniconda3/envs/RAG/lib/python3.11/site-packages/pygments/styles/__init__.py\", line 47, in get_style_by_name\n",
      "pygments.util.ClassNotFound: Could not find style module 'pygments.styles.default', though it should be builtin.\n"
     ]
    }
   ],
   "source": [
    "import PyPDF2\n",
    "def extract_text_from_pdf(file_path):\n",
    "    with open(file_path, \"rb\") as file:\n",
    "        reader = PyPDF2.PdfReader(file)\n",
    "        return \" \".join([page.extract_text() for page in reader.pages])\n",
    "\n",
    "bases = extract_text_from_pdf(\"../Documentos-Subvenciones/Bases/Orden 8-2019 bases IRPF.pdf\")\n",
    "# Correciones de la sobvención presentada\n",
    "resolucion = extract_text_from_pdf(\"../Documentos-Subvenciones/Bases/RESOLUCIÓN CAST 169_firmado.pdf\")\n",
    "\n",
    "convocatoria = extract_text_from_pdf(\"../Documentos-Subvenciones/Bases/Convocatoria 2023_6290.pdf\")\n"
   ]
  },
  {
   "cell_type": "markdown",
   "id": "a771e4c2",
   "metadata": {},
   "source": [
    "### Tokens Count"
   ]
  },
  {
   "cell_type": "code",
   "execution_count": 3,
   "id": "47ba7d39",
   "metadata": {},
   "outputs": [
    {
     "name": "stdout",
     "output_type": "stream",
     "text": [
      "Total de tokens: total_tokens=125488 cached_content_token_count=None\n"
     ]
    }
   ],
   "source": [
    "from google import genai\n",
    "from dotenv import load_dotenv\n",
    "import os\n",
    "\n",
    "load_dotenv()\n",
    "\n",
    "client = genai.Client(api_key=os.environ[\"GEMINI_API_KEY\"])\n",
    "\n",
    "total_tokens = client.models.count_tokens(\n",
    "    model=\"gemini-2.0-flash\",\n",
    "    contents=prompt.format(\n",
    "        convocatoria=convocatoria,\n",
    "        bases=bases,\n",
    "        resolucion=resolucion\n",
    "    ),\n",
    ")\n",
    "\n",
    "print(\"Total de tokens:\", total_tokens)"
   ]
  }
 ],
 "metadata": {
  "kernelspec": {
   "display_name": "RAG",
   "language": "python",
   "name": "python3"
  },
  "language_info": {
   "codemirror_mode": {
    "name": "ipython",
    "version": 3
   },
   "file_extension": ".py",
   "mimetype": "text/x-python",
   "name": "python",
   "nbconvert_exporter": "python",
   "pygments_lexer": "ipython3",
   "version": "3.11.11"
  }
 },
 "nbformat": 4,
 "nbformat_minor": 5
}
