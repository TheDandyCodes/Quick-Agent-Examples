{
 "cells": [
  {
   "cell_type": "code",
   "execution_count": 54,
   "id": "aa143f1d",
   "metadata": {},
   "outputs": [
    {
     "data": {
      "text/plain": [
       "True"
      ]
     },
     "execution_count": 54,
     "metadata": {},
     "output_type": "execute_result"
    }
   ],
   "source": [
    "import os\n",
    "from dotenv import load_dotenv\n",
    "from llama_index.core import (\n",
    "    VectorStoreIndex, \n",
    ")\n",
    "from llama_index.core.agent.workflow import AgentStream, ToolCallResult\n",
    "load_dotenv()"
   ]
  },
  {
   "cell_type": "code",
   "execution_count": 55,
   "id": "5fcf56b9",
   "metadata": {},
   "outputs": [
    {
     "name": "stdout",
     "output_type": "stream",
     "text": [
      "The autoreload extension is already loaded. To reload it, use:\n",
      "  %reload_ext autoreload\n"
     ]
    }
   ],
   "source": [
    "%load_ext autoreload\n",
    "%autoreload 2"
   ]
  },
  {
   "cell_type": "code",
   "execution_count": 56,
   "id": "e3005dcf",
   "metadata": {},
   "outputs": [],
   "source": [
    "from llama_index.core.agent.workflow import ReActAgent\n",
    "from llama_index.core.workflow import Context\n",
    "from llama_index.llms.google_genai import GoogleGenAI\n",
    "\n",
    "llm_gemini = GoogleGenAI(model=\"gemini-2.0-flash\", api_key=os.environ[\"GEMINI_API_KEY\"])"
   ]
  },
  {
   "cell_type": "code",
   "execution_count": 57,
   "id": "238db71d",
   "metadata": {},
   "outputs": [],
   "source": [
    "import pandas as pd\n",
    "\n",
    "# dataset con diferentes clientes, su email y el detalle de una compra\n",
    "df_shoppings = pd.DataFrame({\n",
    "    \"Cliente\": [\"Juan Pérez\", \"Ana Gómez\", \"Luis Martínez\", \"Ana Gómez\", \"Carlos López\"],\n",
    "    \"Email\": [\"juan.perez@email.com\", \"ana.gomez@email.com\", \"luis.martinez@email.com\", \"ana.gomez@email.com\", \"carlos.lopez@email.com\"],\n",
    "    \"DetalleCompra\": [\n",
    "        \"Compra de laptop - Modelo: Dell XPS 13, Procesador: Intel i7, RAM: 16GB, Almacenamiento: 512GB SSD\",\n",
    "        \"Compra de smartphone - Modelo: iPhone 14 Pro, Almacenamiento: 256GB, Color: Negro\",\n",
    "        \"Compra de tablet - Modelo: Samsung Galaxy Tab S8, Pantalla: 11 pulgadas, Almacenamiento: 128GB\",\n",
    "        \"Compra de audífonos - Modelo: Sony WH-1000XM5, Tipo: Over-ear, Cancelación de ruido activa\",\n",
    "        \"Compra de monitor - Modelo: LG UltraGear 27GP850, Tamaño: 27 pulgadas, Resolución: QHD, Frecuencia: 165Hz\"\n",
    "    ]\n",
    "})\n",
    "\n",
    "# dataset con diferentes clientes, su email y el detalle de un ticket\n",
    "df_tickets = pd.DataFrame({\n",
    "    \"Cliente\": [\"Juan Pérez\", \"Ana Gómez\", \"Luis Martínez\", \"Ana Gómez\", \"Carlos López\"],\n",
    "    \"Email\": [\"juan.perez@email.com\", \"ana.gomez@email.com\", \"luis.martinez@email.com\", \"ana.gomez@email.com\", \"carlos.lopez@email.com\"],\n",
    "    \"idTicket\": [1, 2, 3, 4, 5],\n",
    "    \"DetalleTickets\": [\n",
    "        \"Problema con la batería del laptop, no carga correctamente. Modelo: Dell XPS 13, Fecha de compra: 2023-01-15, Estado: En garantía.\",\n",
    "        \"Pantalla del smartphone presenta líneas verticales. Modelo: iPhone 14 Pro, Fecha de compra: 2023-02-10, Estado: En garantía.\",\n",
    "        \"Tablet no enciende después de la actualización. Modelo: Samsung Galaxy Tab S8, Fecha de compra: 2023-03-05, Estado: Fuera de garantía.\",\n",
    "        \"Audífonos no se conectan vía Bluetooth. Modelo: Sony WH-1000XM5, Fecha de compra: 2023-04-20, Estado: En garantía.\",\n",
    "        \"Monitor tiene píxeles muertos en la esquina superior derecha. Modelo: LG UltraGear 27GP850, Fecha de compra: 2023-05-30, Estado: En garantía.\"\n",
    "    ]\n",
    "})"
   ]
  },
  {
   "cell_type": "code",
   "execution_count": 45,
   "id": "aee9f16e",
   "metadata": {},
   "outputs": [
    {
     "name": "stderr",
     "output_type": "stream",
     "text": [
      "Parsing nodes: 100%|██████████| 5/5 [00:00<00:00, 1180.70it/s]\n",
      "Generating embeddings: 100%|██████████| 5/5 [00:00<00:00, 12.12it/s]\n",
      "Parsing nodes: 100%|██████████| 5/5 [00:00<00:00, 1241.95it/s]\n",
      "Generating embeddings: 100%|██████████| 5/5 [00:00<00:00, 23.79it/s]\n"
     ]
    }
   ],
   "source": [
    "from llama_index.core.schema import Document\n",
    "\n",
    "documents_shoppings = [\n",
    "    Document(\n",
    "        text=f\"Cliente: {record['Cliente']}, Email: {record['Email']}, Detalle: {record['DetalleCompra']}\",\n",
    "        metadata={\"Cliente\": record[\"Cliente\"], \"Email\": record[\"Email\"]},\n",
    "    )\n",
    "    for record in df_shoppings.to_dict(orient=\"records\")\n",
    "]\n",
    "\n",
    "documents_tickets = [\n",
    "    Document(\n",
    "        text=f\"Ticket ID: {record['idTicket']}, Cliente: {record['Cliente']}, Email: {record['Email']}, Detalle: {record['DetalleTickets']}\",\n",
    "        metadata={\"Cliente\": record[\"Cliente\"], \"Email\": record[\"Email\"], \"idTicket\": record[\"idTicket\"]},\n",
    "    )\n",
    "    for record in df_tickets.to_dict(orient=\"records\")\n",
    "]\n",
    "\n",
    "index_shoppings = VectorStoreIndex.from_documents(documents_shoppings, show_progress=True)\n",
    "index_tickets = VectorStoreIndex.from_documents(documents_tickets, show_progress=True)"
   ]
  },
  {
   "cell_type": "code",
   "execution_count": 46,
   "id": "af78f881",
   "metadata": {},
   "outputs": [],
   "source": [
    "from llama_index.core.tools import FunctionTool, QueryEngineTool\n",
    "from llama_index.core.vector_stores import MetadataFilter, MetadataFilters\n",
    "from google import genai\n",
    "from google.genai import types\n",
    "from pydantic import BaseModel, Field\n",
    "\n",
    "class SentimentSchema(BaseModel):\n",
    "    \"\"\"Sentiment analysis schema\"\"\"\n",
    "\n",
    "    sentimiento: str = Field(..., description=\"Text sentiment\")\n",
    "    score: str = Field(\n",
    "        ..., description=\"Sentiment score (0-1). Higher score means a more positive sentiment\"\n",
    "    )\n",
    "\n",
    "def analyze_sentiment(text: str) -> dict:\n",
    "    \"\"\"Analyze the sentiment (positive, negative, neutral) of a given text.\"\"\"\n",
    "\n",
    "    client = genai.Client(api_key=os.environ[\"GEMINI_API_KEY\"])\n",
    "\n",
    "    response = client.models.generate_content(\n",
    "        model=\"gemini-2.0-flash\",\n",
    "        contents=text,\n",
    "        config=types.GenerateContentConfig(\n",
    "            system_instruction=\"\"\"You are a sentiment analysis expert. Your task is to analyze the sentiment of the text provided.\n",
    "            You must follow `SentimentSchema` pydantic model to return the response.\"\"\",\n",
    "            response_mime_type=\"application/json\",\n",
    "            response_schema=SentimentSchema,\n",
    "        ),\n",
    "    )\n",
    "    return response.text\n",
    "\n",
    "sentiment_tool = FunctionTool.from_defaults(\n",
    "    fn=analyze_sentiment,\n",
    "    name=\"SentimentAnalyzer\",\n",
    "    description=\"Analiza emociones en textos de clientes\"\n",
    ")\n",
    "\n",
    "def search_ticket_by_id(id_ticket: int) -> str:\n",
    "    \"\"\"Busca un ticket específico por su ID exacto\n",
    "    y devuelve un resumen detallado del problema reportado.\n",
    "\n",
    "    Parameters\n",
    "    ----------\n",
    "    id_ticket : int\n",
    "        ID del ticket a buscar.\n",
    "\n",
    "    Returns\n",
    "    -------\n",
    "    str\n",
    "        Resumen detallado del ticket.\n",
    "    \"\"\"\n",
    "    try:\n",
    "        id_ticket = int(id_ticket)\n",
    "        filters = MetadataFilters(filters=[MetadataFilter(key=\"idTicket\", value=id_ticket)])\n",
    "        engine = index_tickets.as_query_engine(\n",
    "            filters=filters,\n",
    "            response_mode=\"tree_summarize\",\n",
    "            llm=llm_gemini,\n",
    "            system_prompt=\"Encuentra y resume el contenido del ticket con este ID exacto.\"\n",
    "        )\n",
    "        return engine.query(\"Describe detalladamente este ticket\").response\n",
    "    except Exception as e:\n",
    "        return f\"No se encontró el ticket con ID {id_ticket}. Error: {str(e)}\"\n",
    "\n",
    "search_ticket_by_id_tool = FunctionTool.from_defaults(\n",
    "    fn=search_ticket_by_id,\n",
    "    name=\"search_ticket_by_id\",\n",
    "    description=\"Busca información específica de un ticket usando su número ID exacto\"\n",
    ")\n",
    "\n",
    "def search_ticket_by_email(email_client: str) -> str:\n",
    "    \"\"\"Busca un ticket específico por el email del cliente\n",
    "    y devuelve un resumen detallado del problema reportado.\n",
    "\n",
    "    Parameters\n",
    "    ----------\n",
    "    email_client : str\n",
    "        Email del cliente a buscar.\n",
    "\n",
    "    Returns\n",
    "    -------\n",
    "    str\n",
    "        Resumen detallado del ticket.\n",
    "    \"\"\"\n",
    "    try:\n",
    "        filters = MetadataFilters(filters=[MetadataFilter(key=\"Email\", value=email_client)])\n",
    "        engine = index_tickets.as_query_engine(\n",
    "            filters=filters,\n",
    "            response_mode=\"tree_summarize\",\n",
    "            llm=llm_gemini,\n",
    "            system_prompt=\"Encuentra y resume el contenido del ticket correspondiente al cliente con este email.\"\n",
    "        )\n",
    "        return engine.query(\"Describe detalladamente este ticket\").response\n",
    "    except Exception as e:\n",
    "        return f\"No se encontró el ticket del cliente con email {email_client}. Error: {str(e)}\"\n",
    "\n",
    "search_ticket_by_email_tool = FunctionTool.from_defaults(\n",
    "    fn=search_ticket_by_email,\n",
    "    name=\"search_ticket_by_email\",\n",
    "    description=\"Busca información específica de un ticket usando el email del cliente al que pertenece el ticket\"\n",
    ")"
   ]
  },
  {
   "cell_type": "code",
   "execution_count": 47,
   "id": "34cbd006",
   "metadata": {},
   "outputs": [],
   "source": [
    "from llama_index.tools.duckduckgo import DuckDuckGoSearchToolSpec\n",
    "\n",
    "duckduckgo_search_tool = [\n",
    "    tool\n",
    "    for tool in DuckDuckGoSearchToolSpec().to_tool_list()\n",
    "    if tool.metadata.name == \"duckduckgo_full_search\"\n",
    "]"
   ]
  },
  {
   "cell_type": "code",
   "execution_count": 48,
   "id": "c18aa3af",
   "metadata": {},
   "outputs": [],
   "source": [
    "response_mode = \"refine\"\n",
    "\n",
    "query_engine_shoppings = index_shoppings.as_query_engine(\n",
    "    response_mode=response_mode,\n",
    "    verbose=False, \n",
    "    system_prompt=\"Eres un asistente de atención al cliente. Responde preguntas sobre el historial de compras de clientes.\", \n",
    "    similarity_top_k=2, \n",
    "    llm=llm_gemini\n",
    ")\n",
    "\n",
    "crm_shoppings_rag_tool = QueryEngineTool.from_defaults(\n",
    "    query_engine=query_engine_shoppings,\n",
    "    name=\"crm_shoppings_rag_tool\",\n",
    "    description=\"\"\"Herramienta de búsqueda para responder preguntas sobre el historial de compras de clientes. \n",
    "    Úsalo cuando necesites información sobre productos comprados anteriormente\"\"\",\n",
    ")\n",
    "\n",
    "query_engine_tickets = index_tickets.as_query_engine(\n",
    "    response_mode=response_mode,\n",
    "    verbose=False, \n",
    "    system_prompt=\"Eres un asistente de atención al cliente. Responde preguntas sobre el historial de tickets clientes.\", \n",
    "    similarity_top_k=2, \n",
    "    llm=llm_gemini,\n",
    ")\n",
    "\n",
    "crm_tickets_rag_tool = QueryEngineTool.from_defaults(\n",
    "    query_engine=query_engine_tickets,\n",
    "    name=\"crm_tickets_rag_tool\",\n",
    "    description=\"\"\"Herramienta de búsqueda para responder preguntas sobre el historial de tickets clientes.\n",
    "    Úsalo cuando necesites información sobre problemas reportados por clientes\"\"\",\n",
    ")"
   ]
  },
  {
   "cell_type": "code",
   "execution_count": 49,
   "id": "5651ce10",
   "metadata": {},
   "outputs": [],
   "source": [
    "tools = [sentiment_tool, crm_shoppings_rag_tool, crm_tickets_rag_tool, search_ticket_by_id_tool, search_ticket_by_email_tool, duckduckgo_search_tool[0]]\n",
    "\n",
    "from ReAct_system_prompt import react_system_prompt\n",
    "from llama_index.core import PromptTemplate\n",
    "\n",
    "special_instructions = \"\"\"\n",
    "Your duty as an agent is to help customers solve problems related to their purchases and tickets.\n",
    "You must answer customers' questions using the available ticket and purchase information.\n",
    "\n",
    "First of all, you should analyze the sentiment of the customers' messages.\n",
    "If the sentiment is negative, you should look for information about the customer's ticket.\n",
    "\n",
    "If there is a ticket, you should make a web search, through the `duckduckgo_search_tool`, to find and compare, first of all the market price of the product, and secondly the cost of the repair.\n",
    "IMPORTAR: Always use valid JSON format with double quotes for keys and values.\n",
    "\n",
    "Finally, based on the customer's question, you should write a formal email-type response, including relevant ticket and purchase information\n",
    "and a possible solution to the problem raised.\n",
    "\n",
    "In case you need for information to answer the question, you can ask the user for more details.\n",
    "\"\"\"\n",
    "\n",
    "# Create the agent with the tools\n",
    "agent = ReActAgent(\n",
    "    tools=tools,\n",
    "    llm=llm_gemini,\n",
    "    # system_prompt=[...], # Doesn't behave as expected\n",
    ")\n",
    "\n",
    "# Actualiza el prompt del sistema\n",
    "agent.update_prompts({\"react_header\": PromptTemplate(react_system_prompt.replace(\"$/special_instructions/$\", special_instructions))})\n",
    "\n",
    "ctx = Context(agent)"
   ]
  },
  {
   "cell_type": "code",
   "execution_count": null,
   "id": "bb777528",
   "metadata": {},
   "outputs": [],
   "source": [
    "query = \"Me ha llegado el portatil roto. luis.martinez@email.com\"\n",
    "\n",
    "handler = agent.run(query, ctx=ctx)\n",
    "\n",
    "async for ev in handler.stream_events():\n",
    "    if isinstance(ev, ToolCallResult):\n",
    "        print(f\"\\nCall {ev.tool_name} with {ev.tool_kwargs}\\nReturned: {ev.tool_output}\")\n",
    "    if isinstance(ev, AgentStream):\n",
    "        print(f\"{ev.delta}\", end=\"\", flush=True)\n",
    "\n",
    "response = await handler"
   ]
  },
  {
   "cell_type": "code",
   "execution_count": 53,
   "id": "df1df3f3",
   "metadata": {},
   "outputs": [
    {
     "name": "stdout",
     "output_type": "stream",
     "text": [
      "\n",
      "\n",
      "Final response: \n",
      "Lo siento, no puedo acceder a la información de su compra o ticket con las herramientas disponibles. Por favor, proporcione el número de orden de compra o el número de ticket para que pueda ayudarle mejor.\n"
     ]
    }
   ],
   "source": [
    "print(f\"\\n\\nFinal response: \\n{str(response)}\")"
   ]
  },
  {
   "cell_type": "code",
   "execution_count": null,
   "id": "f9670ee5",
   "metadata": {},
   "outputs": [],
   "source": [
    "print(f\"\\n\\nFinal response: \\n{response}\")"
   ]
  },
  {
   "cell_type": "code",
   "execution_count": null,
   "id": "a1169c1f",
   "metadata": {},
   "outputs": [
    {
     "name": "stdout",
     "output_type": "stream",
     "text": [
      "El costo de reparación de un Samsung Galaxy Tab S8 depende del daño específico. Por ejemplo, el reemplazo de la batería podría costar alrededor de 90 euros. Si el problema es con la pantalla, el costo podría ser mayor, especialmente si el panel AMOLED está dañado. Para obtener una estimación precisa, te recomiendo contactar un servicio técnico autorizado de Samsung o una tienda de reparación especializada.\n",
      "\n",
      "Aún necesito que me confirmes si el \"portátil roto\" es el mismo Samsung Galaxy Tab S8 que aparece en el ticket ID 3. Si es un dispositivo diferente, por favor, proporciona más detalles sobre el modelo del portátil para poder buscar información más precisa sobre su reparación.\n"
     ]
    }
   ],
   "source": [
    "handler = agent.run(\"Me gustaría repararla, cuanto me costaría?\", ctx=ctx)\n",
    "response = await handler\n",
    "print(response)"
   ]
  },
  {
   "cell_type": "code",
   "execution_count": null,
   "id": "fedba3a6",
   "metadata": {},
   "outputs": [
    {
     "name": "stdout",
     "output_type": "stream",
     "text": [
      "Entiendo que quieres proceder con la reparación. Sin embargo, antes de continuar, necesito confirmar si el \"portátil roto\" es el mismo dispositivo (Samsung Galaxy Tab S8) que mencionaste en el ticket ID 3. ¿Podrías confirmarme si se trata del mismo dispositivo o de uno diferente? Si es un dispositivo diferente, por favor, proporciona la marca y modelo del portátil para poder ayudarte mejor con el proceso de reparación.\n"
     ]
    }
   ],
   "source": [
    "handler = agent.run(\"Quiero proceder con la reparación\", ctx=ctx)\n",
    "response = await handler\n",
    "print(response)"
   ]
  }
 ],
 "metadata": {
  "kernelspec": {
   "display_name": "llama_env",
   "language": "python",
   "name": "python3"
  },
  "language_info": {
   "codemirror_mode": {
    "name": "ipython",
    "version": 3
   },
   "file_extension": ".py",
   "mimetype": "text/x-python",
   "name": "python",
   "nbconvert_exporter": "python",
   "pygments_lexer": "ipython3",
   "version": "3.11.11"
  }
 },
 "nbformat": 4,
 "nbformat_minor": 5
}
