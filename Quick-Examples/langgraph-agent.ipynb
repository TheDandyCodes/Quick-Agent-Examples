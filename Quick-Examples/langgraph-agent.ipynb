{
 "cells": [
  {
   "cell_type": "code",
   "execution_count": 1,
   "id": "8edc7d2d",
   "metadata": {},
   "outputs": [],
   "source": [
    "from langchain_google_genai import ChatGoogleGenerativeAI\n",
    "from dotenv import load_dotenv\n",
    "import os \n",
    "\n",
    "load_dotenv()\n",
    "\n",
    "llm = ChatGoogleGenerativeAI(model=\"gemini-2.0-flash\", google_api_key=os.environ[\"GEMINI_API_KEY\"])"
   ]
  },
  {
   "cell_type": "markdown",
   "id": "a803f046",
   "metadata": {},
   "source": [
    "## Tools"
   ]
  },
  {
   "cell_type": "code",
   "execution_count": 2,
   "id": "5e6d0773",
   "metadata": {},
   "outputs": [],
   "source": [
    "from langchain_core.tools import StructuredTool\n",
    "import numpy as np\n",
    "\n",
    "\n",
    "def sum_random_number(a: int) -> int:\n",
    "    \"\"\"Sum a random number the input number.\n",
    "\n",
    "    Parameters\n",
    "    ----------\n",
    "    a : int\n",
    "        First number to multiply\n",
    "\n",
    "    Returns\n",
    "    -------\n",
    "    int\n",
    "        The sum of the two numbers\n",
    "    \"\"\"\n",
    "    random_number = 3\n",
    "    return a + random_number\n",
    "\n",
    "\n",
    "calculator = StructuredTool.from_function(func=sum_random_number, name=\"calculator\")"
   ]
  },
  {
   "cell_type": "markdown",
   "id": "674f27d8",
   "metadata": {},
   "source": [
    "## Agent"
   ]
  },
  {
   "cell_type": "markdown",
   "id": "c0b868da",
   "metadata": {},
   "source": [
    "Simple System Prompt"
   ]
  },
  {
   "cell_type": "code",
   "execution_count": 3,
   "id": "a9ebdd5e",
   "metadata": {},
   "outputs": [],
   "source": [
    "from langgraph.prebuilt import create_react_agent\n",
    "from langgraph.checkpoint.memory import MemorySaver\n",
    "\n",
    "from ReAct_system_prompt import react_system_prompt\n",
    "special_instructions = \"\"\"You must answer in Spanish.\"\"\"\n",
    "system_prompt = react_system_prompt.replace(\"$/special_instructions/$\", special_instructions)\n",
    "# This could also be a SystemMessage object\n",
    "# system_message = SystemMessage(content=\"You are a helpful assistant. Respond only in Spanish.\")\n",
    "memory = MemorySaver()\n",
    "langgraph_agent_executor = create_react_agent(llm, [calculator], prompt=special_instructions, checkpointer=memory)\n"
   ]
  },
  {
   "cell_type": "markdown",
   "id": "4012523c",
   "metadata": {},
   "source": [
    "Complex System Prompt"
   ]
  },
  {
   "cell_type": "code",
   "execution_count": 13,
   "id": "c82e65e8",
   "metadata": {},
   "outputs": [
    {
     "name": "stdout",
     "output_type": "stream",
     "text": [
      "{'messages': [HumanMessage(content=\"What's your name? Sum a random number to 4\", additional_kwargs={}, response_metadata={}, id='2baac3a6-3801-4c6b-ae09-31479f91461e')]}\n",
      "================================\u001b[1m Human Message \u001b[0m=================================\n",
      "\n",
      "What's your name? Sum a random number to 4\n",
      "{'messages': [HumanMessage(content=\"What's your name? Sum a random number to 4\", additional_kwargs={}, response_metadata={}, id='2baac3a6-3801-4c6b-ae09-31479f91461e'),\n",
      "              AIMessage(content='My name is Fred.', additional_kwargs={'function_call': {'name': 'calculator', 'arguments': '{\"a\": 4.0}'}}, response_metadata={'prompt_feedback': {'block_reason': 0, 'safety_ratings': []}, 'finish_reason': 'STOP', 'model_name': 'gemini-2.0-flash', 'safety_ratings': []}, id='run--75d1e7dc-e47c-4a33-b252-d70130029a51-0', tool_calls=[{'name': 'calculator', 'args': {'a': 4.0}, 'id': '48a96468-e3e4-4ddc-a606-64ebd3fb16e2', 'type': 'tool_call'}], usage_metadata={'input_tokens': 68, 'output_tokens': 9, 'total_tokens': 77, 'input_token_details': {'cache_read': 0}})]}\n",
      "==================================\u001b[1m Ai Message \u001b[0m==================================\n",
      "\n",
      "My name is Fred.\n",
      "Tool Calls:\n",
      "  calculator (48a96468-e3e4-4ddc-a606-64ebd3fb16e2)\n",
      " Call ID: 48a96468-e3e4-4ddc-a606-64ebd3fb16e2\n",
      "  Args:\n",
      "    a: 4.0\n",
      "{'messages': [HumanMessage(content=\"What's your name? Sum a random number to 4\", additional_kwargs={}, response_metadata={}, id='2baac3a6-3801-4c6b-ae09-31479f91461e'),\n",
      "              AIMessage(content='My name is Fred.', additional_kwargs={'function_call': {'name': 'calculator', 'arguments': '{\"a\": 4.0}'}}, response_metadata={'prompt_feedback': {'block_reason': 0, 'safety_ratings': []}, 'finish_reason': 'STOP', 'model_name': 'gemini-2.0-flash', 'safety_ratings': []}, id='run--75d1e7dc-e47c-4a33-b252-d70130029a51-0', tool_calls=[{'name': 'calculator', 'args': {'a': 4.0}, 'id': '48a96468-e3e4-4ddc-a606-64ebd3fb16e2', 'type': 'tool_call'}], usage_metadata={'input_tokens': 68, 'output_tokens': 9, 'total_tokens': 77, 'input_token_details': {'cache_read': 0}}),\n",
      "              ToolMessage(content='7', name='calculator', id='dcc46c17-4b04-4eff-883a-5e63ae6ee155', tool_call_id='48a96468-e3e4-4ddc-a606-64ebd3fb16e2')]}\n",
      "=================================\u001b[1m Tool Message \u001b[0m=================================\n",
      "Name: calculator\n",
      "\n",
      "7\n",
      "{'messages': [HumanMessage(content=\"What's your name? Sum a random number to 4\", additional_kwargs={}, response_metadata={}, id='2baac3a6-3801-4c6b-ae09-31479f91461e'),\n",
      "              AIMessage(content='My name is Fred.', additional_kwargs={'function_call': {'name': 'calculator', 'arguments': '{\"a\": 4.0}'}}, response_metadata={'prompt_feedback': {'block_reason': 0, 'safety_ratings': []}, 'finish_reason': 'STOP', 'model_name': 'gemini-2.0-flash', 'safety_ratings': []}, id='run--75d1e7dc-e47c-4a33-b252-d70130029a51-0', tool_calls=[{'name': 'calculator', 'args': {'a': 4.0}, 'id': '48a96468-e3e4-4ddc-a606-64ebd3fb16e2', 'type': 'tool_call'}], usage_metadata={'input_tokens': 68, 'output_tokens': 9, 'total_tokens': 77, 'input_token_details': {'cache_read': 0}}),\n",
      "              ToolMessage(content='7', name='calculator', id='dcc46c17-4b04-4eff-883a-5e63ae6ee155', tool_call_id='48a96468-e3e4-4ddc-a606-64ebd3fb16e2'),\n",
      "              AIMessage(content='My name is Fred, and the sum of a random number and 4 is 7.', additional_kwargs={}, response_metadata={'prompt_feedback': {'block_reason': 0, 'safety_ratings': []}, 'finish_reason': 'STOP', 'model_name': 'gemini-2.0-flash', 'safety_ratings': []}, id='run--8530900d-2855-4fa9-86bd-b17564e7e6d1-0', usage_metadata={'input_tokens': 74, 'output_tokens': 20, 'total_tokens': 94, 'input_token_details': {'cache_read': 0}})]}\n",
      "==================================\u001b[1m Ai Message \u001b[0m==================================\n",
      "\n",
      "My name is Fred, and the sum of a random number and 4 is 7.\n"
     ]
    }
   ],
   "source": [
    "from langchain_core.prompts import ChatPromptTemplate\n",
    "from pprint import pprint\n",
    "prompt = ChatPromptTemplate.from_messages([\n",
    "    (\"system\", \"You are a helpful bot named Fred.\"),\n",
    "    (\"placeholder\", \"{messages}\"),\n",
    "    (\"user\", \"Remember, always be polite!\"),\n",
    "])\n",
    "# ¿Por qué no poner el recordatorio antes del placeholder?\n",
    "# Si lo pusieras antes, el recordatorio podría quedar \"enterrado\" entre mensajes antiguos y perder relevancia. \n",
    "# Al ponerlo después, es lo último que ve el modelo antes de responder, \n",
    "# así que es más probable que lo tenga en cuenta en su respuesta.\n",
    "graph = create_react_agent(llm, [calculator], prompt=prompt)\n",
    "inputs = {\"messages\": [(\"user\", \"What's your name? Sum a random number to 4\")]}\n",
    "for s in graph.stream(inputs, stream_mode=\"values\"):\n",
    "    pprint(s)\n",
    "    message = s[\"messages\"][-1]\n",
    "    if isinstance(message, tuple):\n",
    "        print(message)\n",
    "    else:\n",
    "        message.pretty_print()"
   ]
  },
  {
   "cell_type": "code",
   "execution_count": 5,
   "id": "ec4d271f",
   "metadata": {},
   "outputs": [],
   "source": [
    "# If you want to run the agent, you can uncomment the following lines:\n",
    "# https://langchain-ai.github.io/langgraph/agents/run_agents/#additional-resources\n",
    "\n",
    "# response = langgraph_agent_executor.invoke({\"messages\": [{\"role\": \"user\", \"content\": \"Make a sum the number is 4\"}]})"
   ]
  },
  {
   "cell_type": "code",
   "execution_count": 4,
   "id": "a9194c46",
   "metadata": {},
   "outputs": [
    {
     "name": "stdout",
     "output_type": "stream",
     "text": [
      "================================\u001b[1m Human Message \u001b[0m=================================\n",
      "\n",
      "Make a sum the number is 4\n",
      "None\n",
      "---\n",
      "==================================\u001b[1m Ai Message \u001b[0m==================================\n",
      "Tool Calls:\n",
      "  calculator (29cca44e-61c4-4451-94eb-fbcda373582c)\n",
      " Call ID: 29cca44e-61c4-4451-94eb-fbcda373582c\n",
      "  Args:\n",
      "    a: 4.0\n",
      "None\n",
      "---\n",
      "=================================\u001b[1m Tool Message \u001b[0m=================================\n",
      "Name: calculator\n",
      "\n",
      "7\n",
      "None\n",
      "---\n",
      "==================================\u001b[1m Ai Message \u001b[0m==================================\n",
      "\n",
      "La suma del número aleatorio y 4 es 7.\n",
      "None\n",
      "---\n",
      "================================\u001b[1m Human Message \u001b[0m=================================\n",
      "\n",
      "De que estábamos hablando?\n",
      "None\n",
      "---\n",
      "==================================\u001b[1m Ai Message \u001b[0m==================================\n",
      "\n",
      "Estábamos hablando de usar una calculadora para sumar un número aleatorio a 4. La respuesta fue 7.\n",
      "None\n",
      "---\n"
     ]
    }
   ],
   "source": [
    "config = {\"configurable\": {\"thread_id\": \"test-thread\"}}\n",
    "# If you want to start a new conversation, all you have to do is change the thread_id used\n",
    "\n",
    "query = \"Make a sum the number is 4\"\n",
    "\n",
    "for step in langgraph_agent_executor.stream(\n",
    "    {\"messages\": [(\"user\", query)]},\n",
    "    config,\n",
    "    stream_mode=\"values\",\n",
    "):\n",
    "    print(step[\"messages\"][-1].pretty_print())\n",
    "    print(\"---\")\n",
    "\n",
    "for step in langgraph_agent_executor.stream(\n",
    "    {\"messages\": [(\"user\", \"De que estábamos hablando?\")]},\n",
    "    config,\n",
    "    stream_mode=\"values\",\n",
    "):\n",
    "    print(step[\"messages\"][-1].pretty_print())\n",
    "    print(\"---\")"
   ]
  }
 ],
 "metadata": {
  "kernelspec": {
   "display_name": "lang_env",
   "language": "python",
   "name": "python3"
  },
  "language_info": {
   "codemirror_mode": {
    "name": "ipython",
    "version": 3
   },
   "file_extension": ".py",
   "mimetype": "text/x-python",
   "name": "python",
   "nbconvert_exporter": "python",
   "pygments_lexer": "ipython3",
   "version": "3.13.2"
  }
 },
 "nbformat": 4,
 "nbformat_minor": 5
}
